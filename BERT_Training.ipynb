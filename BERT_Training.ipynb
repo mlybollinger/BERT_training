{
  "nbformat": 4,
  "nbformat_minor": 0,
  "metadata": {
    "colab": {
      "provenance": [],
      "gpuType": "T4"
    },
    "kernelspec": {
      "name": "python3",
      "display_name": "Python 3"
    },
    "language_info": {
      "name": "python"
    },
    "accelerator": "GPU"
  },
  "cells": [
    {
      "cell_type": "code",
      "execution_count": null,
      "metadata": {
        "id": "KznJkez_ordo"
      },
      "outputs": [],
      "source": [
        "import torch\n",
        "import torch.nn as nn\n",
        "import torch.nn.functional as F\n",
        "from sklearn.decomposition import PCA\n",
        "\n",
        "import transformers\n",
        "from transformers import AutoTokenizer, AutoModel, BertConfig\n",
        "from transformers import AdamW\n",
        "from transformers import get_scheduler\n",
        "from transformers import get_linear_schedule_with_warmup\n",
        "from sklearn.manifold import TSNE\n",
        "import matplotlib.pyplot as plt"
      ]
    },
    {
      "cell_type": "markdown",
      "source": [],
      "metadata": {
        "id": "ZzUVaiGUagu9"
      }
    },
    {
      "cell_type": "code",
      "source": [
        "embeddings = torch.load('/content/new_card2vec_WOE_emb-300_epochs-20_lr-0.001_bs-128.pt')\n",
        "embeddings.cpu()"
      ],
      "metadata": {
        "colab": {
          "base_uri": "https://localhost:8080/"
        },
        "id": "D4YJNACcqD36",
        "outputId": "9f247e09-1642-40af-f2e7-6d4d908e5142"
      },
      "execution_count": null,
      "outputs": [
        {
          "output_type": "execute_result",
          "data": {
            "text/plain": [
              "tensor([[ 0.1559,  0.9839,  1.5902,  ..., -0.2291, -0.8667, -1.7474],\n",
              "        [ 0.8603,  0.1021, -0.2220,  ...,  2.0460,  1.2818, -0.9695],\n",
              "        [ 2.9035,  3.8097,  0.3557,  ...,  0.7569,  0.0635, -0.5334],\n",
              "        ...,\n",
              "        [-0.8207, -2.6411,  0.2796,  ..., -1.9079,  0.9065,  1.4225],\n",
              "        [ 2.1836,  0.2650,  0.5502,  ...,  0.0559,  0.5236,  0.1906],\n",
              "        [-0.0283, -0.4314, -0.7257,  ...,  2.9712, -0.7943,  2.4519]])"
            ]
          },
          "metadata": {},
          "execution_count": 2
        }
      ]
    },
    {
      "cell_type": "code",
      "source": [
        "import pandas as pd\n",
        "card_indices = pd.read_pickle(r'card_names_WOE.pkl')[1]"
      ],
      "metadata": {
        "id": "Zv_Gop2cqI6z"
      },
      "execution_count": null,
      "outputs": []
    },
    {
      "cell_type": "code",
      "source": [
        "import gc\n",
        "torch.cuda.empty_cache()\n",
        "gc.collect()"
      ],
      "metadata": {
        "id": "8BmYpYiRyeMB",
        "colab": {
          "base_uri": "https://localhost:8080/"
        },
        "outputId": "88af1465-7ed5-4336-c75e-a189ef6d9a2e"
      },
      "execution_count": null,
      "outputs": [
        {
          "output_type": "execute_result",
          "data": {
            "text/plain": [
              "0"
            ]
          },
          "metadata": {},
          "execution_count": 4
        }
      ]
    },
    {
      "cell_type": "markdown",
      "source": [],
      "metadata": {
        "id": "ihxAHv17DlaH"
      }
    },
    {
      "cell_type": "code",
      "source": [],
      "metadata": {
        "colab": {
          "base_uri": "https://localhost:8080/"
        },
        "id": "jMVnnosNymlC",
        "outputId": "ccabdd20-cce0-4167-8a81-0136737bc9ad"
      },
      "execution_count": null,
      "outputs": [
        {
          "output_type": "execute_result",
          "data": {
            "text/plain": [
              "torch.Size([329, 300])"
            ]
          },
          "metadata": {},
          "execution_count": 30
        }
      ]
    },
    {
      "cell_type": "code",
      "source": [
        "text_data = pd.read_pickle(r'oracle_cards.pkl')"
      ],
      "metadata": {
        "id": "oQD2juPQy9wV"
      },
      "execution_count": null,
      "outputs": []
    },
    {
      "cell_type": "code",
      "source": [
        "## what do we need? Some way to automatically take pairs of cards and output\n",
        "## their similarity according to the model"
      ],
      "metadata": {
        "id": "sHP4nKCnCQZr"
      },
      "execution_count": null,
      "outputs": []
    },
    {
      "cell_type": "markdown",
      "source": [],
      "metadata": {
        "id": "jtyc-zHvBEk-"
      }
    },
    {
      "cell_type": "code",
      "source": [
        "card_names = list(card_indices.values())\n",
        "card_names = [i.strip() for i in card_names]\n",
        "len(card_names)"
      ],
      "metadata": {
        "colab": {
          "base_uri": "https://localhost:8080/"
        },
        "id": "OQCALAyw_ZkL",
        "outputId": "ef2a4865-d5c3-4df2-b529-a3d7780e410b"
      },
      "execution_count": null,
      "outputs": [
        {
          "output_type": "execute_result",
          "data": {
            "text/plain": [
              "329"
            ]
          },
          "metadata": {},
          "execution_count": 7
        }
      ]
    },
    {
      "cell_type": "code",
      "source": [
        "set_data = []\n",
        "\n",
        "for elem in card_names:\n",
        "  for idx, t in enumerate(text_data):\n",
        "    if elem in t['name'] and t['oracle_text'] is not None:\n",
        "      set_data.append(t)\n",
        "      break\n",
        "    elif idx == len(text_data) - 1:\n",
        "      set_data.append(None)"
      ],
      "metadata": {
        "id": "BB3hxL3c_asf"
      },
      "execution_count": null,
      "outputs": []
    },
    {
      "cell_type": "code",
      "source": [
        "len(card_names)"
      ],
      "metadata": {
        "colab": {
          "base_uri": "https://localhost:8080/"
        },
        "id": "7xM7wZxU2Moz",
        "outputId": "cbfb54bf-7a80-4943-b162-6019dfa5ba6e"
      },
      "execution_count": null,
      "outputs": [
        {
          "output_type": "execute_result",
          "data": {
            "text/plain": [
              "329"
            ]
          },
          "metadata": {},
          "execution_count": 30
        }
      ]
    },
    {
      "cell_type": "code",
      "source": [
        "len(set_data)"
      ],
      "metadata": {
        "id": "83ZfZoDP_w7f",
        "colab": {
          "base_uri": "https://localhost:8080/"
        },
        "outputId": "00ba9920-4fe1-4259-cbff-a197b9ecd2f2"
      },
      "execution_count": null,
      "outputs": [
        {
          "output_type": "execute_result",
          "data": {
            "text/plain": [
              "329"
            ]
          },
          "metadata": {},
          "execution_count": 31
        }
      ]
    },
    {
      "cell_type": "code",
      "source": [],
      "metadata": {
        "id": "gTxO0hl-_4Ss"
      },
      "execution_count": null,
      "outputs": []
    },
    {
      "cell_type": "code",
      "source": [
        "tokenizer = AutoTokenizer.from_pretrained(\"bert-base-uncased\")\n",
        "bert = AutoModel.from_pretrained(\"bert-base-uncased\")"
      ],
      "metadata": {
        "id": "bkEknAE8CgFk"
      },
      "execution_count": null,
      "outputs": []
    },
    {
      "cell_type": "code",
      "source": [
        "set_data[12]"
      ],
      "metadata": {
        "colab": {
          "base_uri": "https://localhost:8080/"
        },
        "id": "RhmnVu26DBp7",
        "outputId": "51a28b37-d0bb-44c9-f34b-c8eba53cfa61"
      },
      "execution_count": null,
      "outputs": [
        {
          "output_type": "execute_result",
          "data": {
            "text/plain": [
              "{'name': \"Ashiok's Reaper\",\n",
              " 'mana_cost': '{3}{B}',\n",
              " 'colors': ['B'],\n",
              " 'cmc': 4.0,\n",
              " 'type_line': 'Creature — Nightmare',\n",
              " 'oracle_text': 'Whenever an enchantment you control is put into a graveyard from the battlefield, draw a card.',\n",
              " 'power': '3',\n",
              " 'toughness': '3',\n",
              " 'loyalty': None,\n",
              " 'defense': None,\n",
              " 'layout': 'normal',\n",
              " 'card_faces': None}"
            ]
          },
          "metadata": {},
          "execution_count": 26
        }
      ]
    },
    {
      "cell_type": "code",
      "source": [
        "sentences = [s['oracle_text'] for s in set_data if s is not None]\n",
        "m_costs = [s['mana_cost'] for s in set_data if s is not None]\n",
        "null_indices = [i for i in range(len(set_data)) if set_data[i] is None]"
      ],
      "metadata": {
        "id": "mdQIAVvRdkLz"
      },
      "execution_count": null,
      "outputs": []
    },
    {
      "cell_type": "code",
      "source": [
        "max_len = 0\n",
        "m_max_len = 0\n",
        "\n",
        "# For every sentence...\n",
        "for idx, s in enumerate(sentences):\n",
        "\n",
        "    # Tokenize the text and add `[CLS]` and `[SEP]` tokens.\n",
        "    if s is not None:\n",
        "     input_ids = tokenizer.encode(s, add_special_tokens=True)\n",
        "     m_ids = tokenizer.encode(m_costs[idx], add_special_tokens=True)\n",
        "\n",
        "    # Update the maximum sentence length.\n",
        "    max_len = max(max_len, len(input_ids))\n",
        "    m_max_len = max(m_max_len, len(m_ids))\n",
        "\n",
        "print('Max sentence length: ', max_len)\n",
        "print(\"Max m_costs length: \", m_max_len)"
      ],
      "metadata": {
        "colab": {
          "base_uri": "https://localhost:8080/"
        },
        "id": "6E1ykSrLJOfx",
        "outputId": "b561625f-deff-4d4d-dd45-f1747ed9cac9"
      },
      "execution_count": null,
      "outputs": [
        {
          "output_type": "stream",
          "name": "stdout",
          "text": [
            "Max sentence length:  131\n",
            "Max m_costs length:  17\n"
          ]
        }
      ]
    },
    {
      "cell_type": "code",
      "source": [
        "indices_to_keep = [i for i in range(embeddings.shape[0]) if i not in null_indices] # List of indices that should be kept\n",
        "y = embeddings[torch.LongTensor(indices_to_keep)]\n",
        "y.shape"
      ],
      "metadata": {
        "id": "xRIv7VMKfO8x",
        "colab": {
          "base_uri": "https://localhost:8080/"
        },
        "outputId": "62a523a6-1543-4682-d270-aec13e2a9abf"
      },
      "execution_count": null,
      "outputs": [
        {
          "output_type": "execute_result",
          "data": {
            "text/plain": [
              "torch.Size([279, 300])"
            ]
          },
          "metadata": {},
          "execution_count": 114
        }
      ]
    },
    {
      "cell_type": "code",
      "source": [
        "k = 6\n",
        "y = y.unsqueeze(-1).repeat(1, 1, k)\n",
        "\n",
        "for i in range(1, k):\n",
        "  permutation = torch.randperm(y.shape[0])\n",
        "  y[:,:,i] = y[permutation,:,i]"
      ],
      "metadata": {
        "id": "88N1MXtAp5j_"
      },
      "execution_count": null,
      "outputs": []
    },
    {
      "cell_type": "code",
      "source": [
        "help(tokenizer.encode_plus)"
      ],
      "metadata": {
        "colab": {
          "base_uri": "https://localhost:8080/"
        },
        "id": "GxUe8A7Sl59j",
        "outputId": "5d2bf740-0763-49b5-c5e9-1e7e286d2e21"
      },
      "execution_count": null,
      "outputs": [
        {
          "output_type": "stream",
          "name": "stdout",
          "text": [
            "Help on method encode_plus in module transformers.tokenization_utils_base:\n",
            "\n",
            "encode_plus(text: Union[str, List[str], List[int]], text_pair: Union[str, List[str], List[int], NoneType] = None, add_special_tokens: bool = True, padding: Union[bool, str, transformers.utils.generic.PaddingStrategy] = False, truncation: Union[bool, str, transformers.tokenization_utils_base.TruncationStrategy] = None, max_length: Optional[int] = None, stride: int = 0, is_split_into_words: bool = False, pad_to_multiple_of: Optional[int] = None, return_tensors: Union[str, transformers.utils.generic.TensorType, NoneType] = None, return_token_type_ids: Optional[bool] = None, return_attention_mask: Optional[bool] = None, return_overflowing_tokens: bool = False, return_special_tokens_mask: bool = False, return_offsets_mapping: bool = False, return_length: bool = False, verbose: bool = True, **kwargs) -> transformers.tokenization_utils_base.BatchEncoding method of transformers.models.bert.tokenization_bert_fast.BertTokenizerFast instance\n",
            "    Tokenize and prepare for the model a sequence or a pair of sequences.\n",
            "    \n",
            "    <Tip warning={true}>\n",
            "    \n",
            "    This method is deprecated, `__call__` should be used instead.\n",
            "    \n",
            "    </Tip>\n",
            "    \n",
            "    Args:\n",
            "        text (`str`, `List[str]` or `List[int]` (the latter only for not-fast tokenizers)):\n",
            "            The first sequence to be encoded. This can be a string, a list of strings (tokenized string using the\n",
            "            `tokenize` method) or a list of integers (tokenized string ids using the `convert_tokens_to_ids`\n",
            "            method).\n",
            "        text_pair (`str`, `List[str]` or `List[int]`, *optional*):\n",
            "            Optional second sequence to be encoded. This can be a string, a list of strings (tokenized string using\n",
            "            the `tokenize` method) or a list of integers (tokenized string ids using the `convert_tokens_to_ids`\n",
            "            method).\n",
            "    \n",
            "        add_special_tokens (`bool`, *optional*, defaults to `True`):\n",
            "            Whether or not to add special tokens when encoding the sequences. This will use the underlying\n",
            "            `PretrainedTokenizerBase.build_inputs_with_special_tokens` function, which defines which tokens are\n",
            "            automatically added to the input ids. This is usefull if you want to add `bos` or `eos` tokens\n",
            "            automatically.\n",
            "        padding (`bool`, `str` or [`~utils.PaddingStrategy`], *optional*, defaults to `False`):\n",
            "            Activates and controls padding. Accepts the following values:\n",
            "    \n",
            "            - `True` or `'longest'`: Pad to the longest sequence in the batch (or no padding if only a single\n",
            "              sequence if provided).\n",
            "            - `'max_length'`: Pad to a maximum length specified with the argument `max_length` or to the maximum\n",
            "              acceptable input length for the model if that argument is not provided.\n",
            "            - `False` or `'do_not_pad'` (default): No padding (i.e., can output a batch with sequences of different\n",
            "              lengths).\n",
            "        truncation (`bool`, `str` or [`~tokenization_utils_base.TruncationStrategy`], *optional*, defaults to `False`):\n",
            "            Activates and controls truncation. Accepts the following values:\n",
            "    \n",
            "            - `True` or `'longest_first'`: Truncate to a maximum length specified with the argument `max_length` or\n",
            "              to the maximum acceptable input length for the model if that argument is not provided. This will\n",
            "              truncate token by token, removing a token from the longest sequence in the pair if a pair of\n",
            "              sequences (or a batch of pairs) is provided.\n",
            "            - `'only_first'`: Truncate to a maximum length specified with the argument `max_length` or to the\n",
            "              maximum acceptable input length for the model if that argument is not provided. This will only\n",
            "              truncate the first sequence of a pair if a pair of sequences (or a batch of pairs) is provided.\n",
            "            - `'only_second'`: Truncate to a maximum length specified with the argument `max_length` or to the\n",
            "              maximum acceptable input length for the model if that argument is not provided. This will only\n",
            "              truncate the second sequence of a pair if a pair of sequences (or a batch of pairs) is provided.\n",
            "            - `False` or `'do_not_truncate'` (default): No truncation (i.e., can output batch with sequence lengths\n",
            "              greater than the model maximum admissible input size).\n",
            "        max_length (`int`, *optional*):\n",
            "            Controls the maximum length to use by one of the truncation/padding parameters.\n",
            "    \n",
            "            If left unset or set to `None`, this will use the predefined model maximum length if a maximum length\n",
            "            is required by one of the truncation/padding parameters. If the model has no specific maximum input\n",
            "            length (like XLNet) truncation/padding to a maximum length will be deactivated.\n",
            "        stride (`int`, *optional*, defaults to 0):\n",
            "            If set to a number along with `max_length`, the overflowing tokens returned when\n",
            "            `return_overflowing_tokens=True` will contain some tokens from the end of the truncated sequence\n",
            "            returned to provide some overlap between truncated and overflowing sequences. The value of this\n",
            "            argument defines the number of overlapping tokens.\n",
            "        is_split_into_words (`bool`, *optional*, defaults to `False`):\n",
            "            Whether or not the input is already pre-tokenized (e.g., split into words). If set to `True`, the\n",
            "            tokenizer assumes the input is already split into words (for instance, by splitting it on whitespace)\n",
            "            which it will tokenize. This is useful for NER or token classification.\n",
            "        pad_to_multiple_of (`int`, *optional*):\n",
            "            If set will pad the sequence to a multiple of the provided value. Requires `padding` to be activated.\n",
            "            This is especially useful to enable the use of Tensor Cores on NVIDIA hardware with compute capability\n",
            "            `>= 7.5` (Volta).\n",
            "        return_tensors (`str` or [`~utils.TensorType`], *optional*):\n",
            "            If set, will return tensors instead of list of python integers. Acceptable values are:\n",
            "    \n",
            "            - `'tf'`: Return TensorFlow `tf.constant` objects.\n",
            "            - `'pt'`: Return PyTorch `torch.Tensor` objects.\n",
            "            - `'np'`: Return Numpy `np.ndarray` objects.\n",
            "    \n",
            "        return_token_type_ids (`bool`, *optional*):\n",
            "            Whether to return token type IDs. If left to the default, will return the token type IDs according to\n",
            "            the specific tokenizer's default, defined by the `return_outputs` attribute.\n",
            "    \n",
            "            [What are token type IDs?](../glossary#token-type-ids)\n",
            "        return_attention_mask (`bool`, *optional*):\n",
            "            Whether to return the attention mask. If left to the default, will return the attention mask according\n",
            "            to the specific tokenizer's default, defined by the `return_outputs` attribute.\n",
            "    \n",
            "            [What are attention masks?](../glossary#attention-mask)\n",
            "        return_overflowing_tokens (`bool`, *optional*, defaults to `False`):\n",
            "            Whether or not to return overflowing token sequences. If a pair of sequences of input ids (or a batch\n",
            "            of pairs) is provided with `truncation_strategy = longest_first` or `True`, an error is raised instead\n",
            "            of returning overflowing tokens.\n",
            "        return_special_tokens_mask (`bool`, *optional*, defaults to `False`):\n",
            "            Whether or not to return special tokens mask information.\n",
            "        return_offsets_mapping (`bool`, *optional*, defaults to `False`):\n",
            "            Whether or not to return `(char_start, char_end)` for each token.\n",
            "    \n",
            "            This is only available on fast tokenizers inheriting from [`PreTrainedTokenizerFast`], if using\n",
            "            Python's tokenizer, this method will raise `NotImplementedError`.\n",
            "        return_length  (`bool`, *optional*, defaults to `False`):\n",
            "            Whether or not to return the lengths of the encoded inputs.\n",
            "        verbose (`bool`, *optional*, defaults to `True`):\n",
            "            Whether or not to print more information and warnings.\n",
            "        **kwargs: passed to the `self.tokenize()` method\n",
            "    \n",
            "    Return:\n",
            "        [`BatchEncoding`]: A [`BatchEncoding`] with the following fields:\n",
            "    \n",
            "        - **input_ids** -- List of token ids to be fed to a model.\n",
            "    \n",
            "          [What are input IDs?](../glossary#input-ids)\n",
            "    \n",
            "        - **token_type_ids** -- List of token type ids to be fed to a model (when `return_token_type_ids=True` or\n",
            "          if *\"token_type_ids\"* is in `self.model_input_names`).\n",
            "    \n",
            "          [What are token type IDs?](../glossary#token-type-ids)\n",
            "    \n",
            "        - **attention_mask** -- List of indices specifying which tokens should be attended to by the model (when\n",
            "          `return_attention_mask=True` or if *\"attention_mask\"* is in `self.model_input_names`).\n",
            "    \n",
            "          [What are attention masks?](../glossary#attention-mask)\n",
            "    \n",
            "        - **overflowing_tokens** -- List of overflowing tokens sequences (when a `max_length` is specified and\n",
            "          `return_overflowing_tokens=True`).\n",
            "        - **num_truncated_tokens** -- Number of tokens truncated (when a `max_length` is specified and\n",
            "          `return_overflowing_tokens=True`).\n",
            "        - **special_tokens_mask** -- List of 0s and 1s, with 1 specifying added special tokens and 0 specifying\n",
            "          regular sequence tokens (when `add_special_tokens=True` and `return_special_tokens_mask=True`).\n",
            "        - **length** -- The length of the inputs (when `return_length=True`)\n",
            "\n"
          ]
        }
      ]
    },
    {
      "cell_type": "code",
      "source": [
        "m_dict['input_ids'].shape"
      ],
      "metadata": {
        "id": "719LWKSnqj6F",
        "colab": {
          "base_uri": "https://localhost:8080/"
        },
        "outputId": "5d362fd7-86e2-4017-9b44-1eadddce6015"
      },
      "execution_count": null,
      "outputs": [
        {
          "output_type": "execute_result",
          "data": {
            "text/plain": [
              "torch.Size([1, 17])"
            ]
          },
          "metadata": {},
          "execution_count": 91
        }
      ]
    },
    {
      "cell_type": "code",
      "source": [
        "# Tokenize all of the sentences and map the tokens to thier word IDs.\n",
        "input_ids = []\n",
        "attention_masks = []\n",
        "\n",
        "# For every sentence...\n",
        "for idx, sent in enumerate(sentences):\n",
        "    # `encode_plus` will:\n",
        "    #   (1) Tokenize the sentence.\n",
        "    #   (2) Prepend the `[CLS]` token to the start.\n",
        "    #   (3) Append the `[SEP]` token to the end.\n",
        "    #   (4) Map tokens to their IDs.\n",
        "    #   (5) Pad or truncate the sentence to `max_length`\n",
        "    #   (6) Create attention masks for [PAD] tokens.\n",
        "    encoded_dict = tokenizer.encode_plus(\n",
        "                        sent,                      # Sentence to encode.\n",
        "                        add_special_tokens = True, # Add '[CLS]' and '[SEP]'\n",
        "                        max_length = 131,           # Pad & truncate all sentences.\n",
        "                        pad_to_max_length = True,\n",
        "                        return_attention_mask = True,   # Construct attn. masks.\n",
        "                        return_tensors = 'pt',     # Return pytorch tensors.\n",
        "                   )\n",
        "\n",
        "    m_dict = tokenizer.encode_plus(\n",
        "                        m_costs[idx],                      # Sentence to encode.\n",
        "                        add_special_tokens = True, # Add '[CLS]' and '[SEP]'\n",
        "                        max_length = 17,           # Pad & truncate all sentences.\n",
        "                        pad_to_max_length = True,\n",
        "                        return_attention_mask = True,   # Construct attn. masks.\n",
        "                        return_tensors = 'pt',     # Return pytorch tensors.\n",
        "                   )\n",
        "\n",
        "    # Add the encoded sentence to the list.\n",
        "    input_ids.append(torch.cat((m_dict['input_ids'], encoded_dict['input_ids'][:, 1:]), dim=1))\n",
        "\n",
        "    # And its attention mask (simply differentiates padding from non-padding).\n",
        "    attention_masks.append(torch.cat((m_dict['attention_mask'], encoded_dict['attention_mask'][:, 1:]), dim=1))\n",
        "\n",
        "\n",
        "\n",
        "# Convert the lists into tensors.\n",
        "input_ids = torch.cat(input_ids, dim=0)\n",
        "attention_masks = torch.cat(attention_masks, dim=0)\n",
        "\n",
        "# Print sentence 0, now as a list of IDs.\n",
        "print('Original: ', sentences[0])\n",
        "print('Token IDs:', input_ids[0])"
      ],
      "metadata": {
        "colab": {
          "base_uri": "https://localhost:8080/"
        },
        "id": "HWTaNv2vfw2-",
        "outputId": "37d88579-ef65-4a7d-a111-88d78d262d89"
      },
      "execution_count": null,
      "outputs": [
        {
          "output_type": "stream",
          "name": "stdout",
          "text": [
            "Original:  Enchanted creatures you control get +2/+2.\n",
            "Token IDs: tensor([  101,  1063,  1015,  1065,  1063,  1059,  1065,   102,     0,     0,\n",
            "            0,     0,     0,     0,     0,     0,     0, 22454,  7329,  2017,\n",
            "         2491,  2131,  1009,  1016,  1013,  1009,  1016,  1012,   102,     0,\n",
            "            0,     0,     0,     0,     0,     0,     0,     0,     0,     0,\n",
            "            0,     0,     0,     0,     0,     0,     0,     0,     0,     0,\n",
            "            0,     0,     0,     0,     0,     0,     0,     0,     0,     0,\n",
            "            0,     0,     0,     0,     0,     0,     0,     0,     0,     0,\n",
            "            0,     0,     0,     0,     0,     0,     0,     0,     0,     0,\n",
            "            0,     0,     0,     0,     0,     0,     0,     0,     0,     0,\n",
            "            0,     0,     0,     0,     0,     0,     0,     0,     0,     0,\n",
            "            0,     0,     0,     0,     0,     0,     0,     0,     0,     0,\n",
            "            0,     0,     0,     0,     0,     0,     0,     0,     0,     0,\n",
            "            0,     0,     0,     0,     0,     0,     0,     0,     0,     0,\n",
            "            0,     0,     0,     0,     0,     0,     0,     0,     0,     0,\n",
            "            0,     0,     0,     0,     0,     0,     0])\n"
          ]
        },
        {
          "output_type": "stream",
          "name": "stderr",
          "text": [
            "/usr/local/lib/python3.10/dist-packages/transformers/tokenization_utils_base.py:2614: FutureWarning: The `pad_to_max_length` argument is deprecated and will be removed in a future version, use `padding=True` or `padding='longest'` to pad to the longest sequence in the batch, or use `padding='max_length'` to pad to a max length. In this case, you can give a specific length with `max_length` (e.g. `max_length=45`) or leave max_length to None to pad to the maximal input size of the model (e.g. 512 for Bert).\n",
            "  warnings.warn(\n"
          ]
        }
      ]
    },
    {
      "cell_type": "code",
      "source": [
        "len(input_ids[0])"
      ],
      "metadata": {
        "id": "VGScA-LoD871",
        "colab": {
          "base_uri": "https://localhost:8080/"
        },
        "outputId": "ec45778c-b4d2-490a-95d1-dcc2edb40942"
      },
      "execution_count": null,
      "outputs": [
        {
          "output_type": "execute_result",
          "data": {
            "text/plain": [
              "147"
            ]
          },
          "metadata": {},
          "execution_count": 117
        }
      ]
    },
    {
      "cell_type": "code",
      "source": [
        "# so....what's the move\n",
        "# add other fields (with separators)\n",
        "# concat sentences and attention masks\n",
        "# create uh, three? five? copies of the tensor"
      ],
      "metadata": {
        "id": "3BvCs5rtFE-a"
      },
      "execution_count": null,
      "outputs": []
    },
    {
      "cell_type": "code",
      "source": [
        "from torch.utils.data import TensorDataset, random_split\n",
        "\n",
        "# Combine the training inputs into a TensorDataset.\n",
        "dataset = TensorDataset(input_ids, attention_masks, y)\n",
        "\n",
        "# Create a 90-10 train-validation split.\n",
        "\n",
        "# Calculate the number of samples to include in each set.\n",
        "train_size = len(dataset) - 31\n",
        "val_size = 31\n",
        "\n",
        "# Divide the dataset by randomly selecting samples.\n",
        "train_dataset, val_dataset = random_split(dataset, [train_size, val_size])\n",
        "\n",
        "print('{:>5,} training samples'.format(train_size))\n",
        "print('{:>5,} validation samples'.format(val_size))"
      ],
      "metadata": {
        "colab": {
          "base_uri": "https://localhost:8080/"
        },
        "id": "EV0KsOqtgBUp",
        "outputId": "7ab0c287-7e0d-4254-f75a-9a29db03230c"
      },
      "execution_count": null,
      "outputs": [
        {
          "output_type": "stream",
          "name": "stdout",
          "text": [
            "  248 training samples\n",
            "   31 validation samples\n"
          ]
        }
      ]
    },
    {
      "cell_type": "code",
      "source": [
        "input_ids[6]"
      ],
      "metadata": {
        "colab": {
          "base_uri": "https://localhost:8080/"
        },
        "id": "cX5SXE5VOjwm",
        "outputId": "dd8067ac-b1d9-4053-a7c2-0ef5373ee327"
      },
      "execution_count": null,
      "outputs": [
        {
          "output_type": "execute_result",
          "data": {
            "text/plain": [
              "tensor([  101,  1063,  1016,  1065,  1063,  1059,  1065,  1063,  1059,  1065,\n",
              "          102,     0,     0,     0,     0,     0,     0,  3909,  2060,  7329,\n",
              "         2017,  2491,  2008,  2024, 22454,  2011, 15240,  2015,  2017,  2491,\n",
              "         2031,  2918,  2373,  1998,  7823,  2791,  1018,  1013,  1018,  1998,\n",
              "         2031,  3909,  1012,   102,     0,     0,     0,     0,     0,     0,\n",
              "            0,     0,     0,     0,     0,     0,     0,     0,     0,     0,\n",
              "            0,     0,     0,     0,     0,     0,     0,     0,     0,     0,\n",
              "            0,     0,     0,     0,     0,     0,     0,     0,     0,     0,\n",
              "            0,     0,     0,     0,     0,     0,     0,     0,     0,     0,\n",
              "            0,     0,     0,     0,     0,     0,     0,     0,     0,     0,\n",
              "            0,     0,     0,     0,     0,     0,     0,     0,     0,     0,\n",
              "            0,     0,     0,     0,     0,     0,     0,     0,     0,     0,\n",
              "            0,     0,     0,     0,     0,     0,     0,     0,     0,     0,\n",
              "            0,     0,     0,     0,     0,     0,     0,     0,     0,     0,\n",
              "            0,     0,     0,     0,     0,     0,     0])"
            ]
          },
          "metadata": {},
          "execution_count": 96
        }
      ]
    },
    {
      "cell_type": "code",
      "source": [
        "from torch.utils.data import DataLoader, RandomSampler, SequentialSampler\n",
        "\n",
        "# The DataLoader needs to know our batch size for training, so we specify it\n",
        "# here. For fine-tuning BERT on a specific task, the authors recommend a batch\n",
        "# size of 16 or 32.\n",
        "batch_size = 31\n",
        "\n",
        "# Create the DataLoaders for our training and validation sets.\n",
        "# We'll take training samples in random order.\n",
        "train_dataloader = DataLoader(\n",
        "            train_dataset,  # The training samples.\n",
        "            sampler = RandomSampler(train_dataset), # Select batches randomly\n",
        "            batch_size = batch_size # Trains with this batch size.\n",
        "        )\n",
        "\n",
        "# For validation the order doesn't matter, so we'll just read them sequentially.\n",
        "validation_dataloader = DataLoader(\n",
        "            val_dataset, # The validation samples.\n",
        "            sampler = SequentialSampler(val_dataset), # Pull out batches sequentially.\n",
        "            batch_size = batch_size # Evaluate with this batch size.\n",
        "        )"
      ],
      "metadata": {
        "id": "NE9jqsRwhH8r"
      },
      "execution_count": null,
      "outputs": []
    },
    {
      "cell_type": "code",
      "source": [
        "class CustomBert(transformers.PreTrainedModel):\n",
        "    '''Custom model class\n",
        "       ------------------\n",
        "       Now the trick is not to inherit the class from `nn.Module` but `transformers.PretrainedModel`\n",
        "       Also you need to pass the model config during initialisation'''\n",
        "\n",
        "    def __init__(self, bert):\n",
        "        super(CustomBert, self).__init__(config=BertConfig.from_pretrained('bert-base-uncased'))\n",
        "        self.bert = bert\n",
        "\n",
        "        self.l1 = nn.Linear(768, 768)\n",
        "\n",
        "        self.mha = nn.MultiheadAttention(embed_dim=768, num_heads=12, dropout=.5)\n",
        "\n",
        "        self.l2 = nn.Linear(768, 300)\n",
        "\n",
        "        self.ln = nn.LayerNorm(768)\n",
        "\n",
        "        self.do = nn.Dropout(0.5)\n",
        "        self.relu = nn.ReLU()\n",
        "        self.sigmoid = nn.Sigmoid()\n",
        "\n",
        "    def forward(self, sent_id, mask):\n",
        "        '''For simplicity I have added only one linear layer, you can create any type of network you want'''\n",
        "\n",
        "        bert_out = self.bert(sent_id, attention_mask=mask)\n",
        "        o = bert_out.last_hidden_state[:,0,:]\n",
        "        #o = self.do(o)\n",
        "        o = self.ln(o + self.mha(o,o,o)[0])\n",
        "        #o = self.ln(o + self.do(self.relu(self.l1(o))))\n",
        "        o = self.l2(o)\n",
        "        return o"
      ],
      "metadata": {
        "id": "RJYsBdO0lOfn"
      },
      "execution_count": null,
      "outputs": []
    },
    {
      "cell_type": "code",
      "source": [
        "model = CustomBert(bert)\n",
        "model.cuda()"
      ],
      "metadata": {
        "colab": {
          "base_uri": "https://localhost:8080/"
        },
        "id": "insbsEr1qbi4",
        "outputId": "1ec34ded-9845-4f64-f2b3-cbf7133a0b1a"
      },
      "execution_count": null,
      "outputs": [
        {
          "output_type": "execute_result",
          "data": {
            "text/plain": [
              "CustomBert(\n",
              "  (bert): BertModel(\n",
              "    (embeddings): BertEmbeddings(\n",
              "      (word_embeddings): Embedding(30522, 768, padding_idx=0)\n",
              "      (position_embeddings): Embedding(512, 768)\n",
              "      (token_type_embeddings): Embedding(2, 768)\n",
              "      (LayerNorm): LayerNorm((768,), eps=1e-12, elementwise_affine=True)\n",
              "      (dropout): Dropout(p=0.1, inplace=False)\n",
              "    )\n",
              "    (encoder): BertEncoder(\n",
              "      (layer): ModuleList(\n",
              "        (0-11): 12 x BertLayer(\n",
              "          (attention): BertAttention(\n",
              "            (self): BertSelfAttention(\n",
              "              (query): Linear(in_features=768, out_features=768, bias=True)\n",
              "              (key): Linear(in_features=768, out_features=768, bias=True)\n",
              "              (value): Linear(in_features=768, out_features=768, bias=True)\n",
              "              (dropout): Dropout(p=0.1, inplace=False)\n",
              "            )\n",
              "            (output): BertSelfOutput(\n",
              "              (dense): Linear(in_features=768, out_features=768, bias=True)\n",
              "              (LayerNorm): LayerNorm((768,), eps=1e-12, elementwise_affine=True)\n",
              "              (dropout): Dropout(p=0.1, inplace=False)\n",
              "            )\n",
              "          )\n",
              "          (intermediate): BertIntermediate(\n",
              "            (dense): Linear(in_features=768, out_features=3072, bias=True)\n",
              "            (intermediate_act_fn): GELUActivation()\n",
              "          )\n",
              "          (output): BertOutput(\n",
              "            (dense): Linear(in_features=3072, out_features=768, bias=True)\n",
              "            (LayerNorm): LayerNorm((768,), eps=1e-12, elementwise_affine=True)\n",
              "            (dropout): Dropout(p=0.1, inplace=False)\n",
              "          )\n",
              "        )\n",
              "      )\n",
              "    )\n",
              "    (pooler): BertPooler(\n",
              "      (dense): Linear(in_features=768, out_features=768, bias=True)\n",
              "      (activation): Tanh()\n",
              "    )\n",
              "  )\n",
              "  (l1): Linear(in_features=768, out_features=768, bias=True)\n",
              "  (mha): MultiheadAttention(\n",
              "    (out_proj): NonDynamicallyQuantizableLinear(in_features=768, out_features=768, bias=True)\n",
              "  )\n",
              "  (l2): Linear(in_features=768, out_features=300, bias=True)\n",
              "  (ln): LayerNorm((768,), eps=1e-05, elementwise_affine=True)\n",
              "  (do): Dropout(p=0.5, inplace=False)\n",
              "  (relu): ReLU()\n",
              "  (sigmoid): Sigmoid()\n",
              ")"
            ]
          },
          "metadata": {},
          "execution_count": 122
        }
      ]
    },
    {
      "cell_type": "code",
      "source": [
        "optimizer = AdamW(model.parameters(),\n",
        "                  lr = 2e-5, # args.learning_rate - default is 5e-5, our notebook had 2e-5\n",
        "                  eps = 1e-8 # args.adam_epsilon  - default is 1e-8.\n",
        "                )"
      ],
      "metadata": {
        "id": "K47c6-Pwq5db",
        "colab": {
          "base_uri": "https://localhost:8080/"
        },
        "outputId": "d6ae3da3-d729-43d6-bbf6-9da8759b2b52"
      },
      "execution_count": null,
      "outputs": [
        {
          "output_type": "stream",
          "name": "stderr",
          "text": [
            "/usr/local/lib/python3.10/dist-packages/transformers/optimization.py:411: FutureWarning: This implementation of AdamW is deprecated and will be removed in a future version. Use the PyTorch implementation torch.optim.AdamW instead, or set `no_deprecation_warning=True` to disable this warning\n",
            "  warnings.warn(\n"
          ]
        }
      ]
    },
    {
      "cell_type": "code",
      "source": [
        "\n",
        "# Number of training epochs. The BERT authors recommend between 2 and 4.\n",
        "# We chose to run for 4, but we'll see later that this may be over-fitting the\n",
        "# training data.\n",
        "epochs = 100\n",
        "\n",
        "# Total number of training steps is [number of batches] x [number of epochs].\n",
        "# (Note that this is not the same as the number of training samples).\n",
        "total_steps = len(train_dataloader) * epochs\n",
        "\n",
        "# Create the learning rate scheduler.\n",
        "scheduler = get_linear_schedule_with_warmup(optimizer,\n",
        "                                            num_warmup_steps = 0, # Default value in run_glue.py\n",
        "                                            num_training_steps = total_steps)"
      ],
      "metadata": {
        "id": "uuKMcJ3cq_Nd"
      },
      "execution_count": null,
      "outputs": []
    },
    {
      "cell_type": "code",
      "source": [
        "device = \"cuda\" if torch.cuda.is_available() else \"cpu\""
      ],
      "metadata": {
        "id": "9-Wxgh1psc0i"
      },
      "execution_count": null,
      "outputs": []
    },
    {
      "cell_type": "code",
      "source": [
        "training_stats = []\n",
        "\n",
        "for epoch_i in range(0, epochs):\n",
        "\n",
        "    # ========================================\n",
        "    #               Training\n",
        "    # ========================================\n",
        "\n",
        "    # Perform one full pass over the training set.\n",
        "\n",
        "    print(\"\")\n",
        "    print('======== Epoch {:} / {:} ========'.format(epoch_i + 1, epochs))\n",
        "    print('Training...')\n",
        "\n",
        "    # Measure how long the training epoch takes.\n",
        "\n",
        "    # Reset the total loss for this epoch.\n",
        "    total_train_loss = 0\n",
        "\n",
        "    # Put the model into training mode. Don't be mislead--the call to\n",
        "    # `train` just changes the *mode*, it doesn't *perform* the training.\n",
        "    # `dropout` and `batchnorm` layers behave differently during training\n",
        "    # vs. test (source: https://stackoverflow.com/questions/51433378/what-does-model-train-do-in-pytorch)\n",
        "    model.train()\n",
        "\n",
        "    # For each batch of training data...\n",
        "    for step, batch in enumerate(train_dataloader):\n",
        "\n",
        "        # Progress update every 40 batches.\n",
        "        if step % 40 == 0 and not step == 0:\n",
        "            # Calculate elapsed time in minutes.\n",
        "\n",
        "            # Report progress.\n",
        "            print('  Batch {:>5,}  of  {:>5,}. '.format(step, len(train_dataloader)))\n",
        "\n",
        "        # Unpack this training batch from our dataloader.\n",
        "        #\n",
        "        # As we unpack the batch, we'll also copy each tensor to the GPU using the\n",
        "        # `to` method.\n",
        "        #\n",
        "        # `batch` contains three pytorch tensors:\n",
        "        #   [0]: input ids\n",
        "        #   [1]: attention masks\n",
        "        #   [2]: labels\n",
        "        b_input_ids = batch[0].to(device)\n",
        "        b_input_mask = batch[1].to(device)\n",
        "        b_labels = batch[2].to(device)\n",
        "\n",
        "        # Always clear any previously calculated gradients before performing a\n",
        "        # backward pass. PyTorch doesn't do this automatically because\n",
        "        # accumulating the gradients is \"convenient while training RNNs\".\n",
        "        # (source: https://stackoverflow.com/questions/48001598/why-do-we-need-to-call-zero-grad-in-pytorch)\n",
        "        model.zero_grad()\n",
        "\n",
        "        # Perform a forward pass (evaluate the model on this training batch).\n",
        "        # The documentation for this `model` function is here:\n",
        "        # https://huggingface.co/transformers/v2.2.0/model_doc/bert.html#transformers.BertForSequenceClassification\n",
        "        # It returns different numbers of parameters depending on what arguments\n",
        "        # arge given and what flags are set. For our useage here, it returns\n",
        "        # the loss (because we provided labels) and the \"logits\"--the model\n",
        "        # outputs prior to activation.\n",
        "\n",
        "        output_tensor = model(b_input_ids, b_input_mask)\n",
        "        sim_same = torch.mean(nn.CosineSimilarity(dim=1)(output_tensor, b_labels[:,:,0]))\n",
        "\n",
        "\n",
        "\n",
        "        sim_other = torch.mean(nn.CosineSimilarity(dim=1)(output_tensor.unsqueeze(-1).repeat(1,1,k -1), b_labels[:,:,1:]))\n",
        "\n",
        "        loss = nn.functional.relu(1 - sim_same + sim_other)\n",
        "\n",
        "        # Accumulate the training loss over all of the batches so that we can\n",
        "        # calculate the average loss at the end. `loss` is a Tensor containing a\n",
        "        # single value; the `.item()` function just returns the Python value\n",
        "        # from the tensor.\n",
        "        total_train_loss += loss.item()\n",
        "\n",
        "        # Perform a backward pass to calculate the gradients.\n",
        "        loss.backward()\n",
        "\n",
        "        # Clip the norm of the gradients to 1.0.\n",
        "        # This is to help prevent the \"exploding gradients\" problem.\n",
        "        torch.nn.utils.clip_grad_norm_(model.parameters(), 1.0)\n",
        "\n",
        "        # Update parameters and take a step using the computed gradient.\n",
        "        # The optimizer dictates the \"update rule\"--how the parameters are\n",
        "        # modified based on their gradients, the learning rate, etc.\n",
        "        optimizer.step()\n",
        "\n",
        "        # Update the learning rate.\n",
        "        scheduler.step()\n",
        "\n",
        "    # Calculate the average loss over all of the batches.\n",
        "    avg_train_loss = total_train_loss / len(train_dataloader)\n",
        "\n",
        "    # Measure how long this epoch took.\n",
        "\n",
        "    print(\"\")\n",
        "    print(\"  Average training loss: {0:.2f}\".format(avg_train_loss))\n",
        "\n",
        "    # ========================================\n",
        "    #               Validation\n",
        "    # ========================================\n",
        "    # After the completion of each training epoch, measure our performance on\n",
        "    # our validation set.\n",
        "\n",
        "    print(\"\")\n",
        "    print(\"Running Validation...\")\n",
        "\n",
        "\n",
        "    # Put the model in evaluation mode--the dropout layers behave differently\n",
        "    # during evaluation.\n",
        "    model.eval()\n",
        "\n",
        "    # Tracking variables\n",
        "    total_eval_accuracy = 0\n",
        "    total_eval_loss = 0\n",
        "    nb_eval_steps = 0\n",
        "\n",
        "    # Evaluate data for one epoch\n",
        "    for batch in validation_dataloader:\n",
        "\n",
        "        # Unpack this training batch from our dataloader.\n",
        "        #\n",
        "        # As we unpack the batch, we'll also copy each tensor to the GPU using\n",
        "        # the `to` method.\n",
        "        #\n",
        "        # `batch` contains three pytorch tensors:\n",
        "        #   [0]: input ids\n",
        "        #   [1]: attention masks\n",
        "        #   [2]: labels\n",
        "        b_input_ids = batch[0].to(device)\n",
        "        b_input_mask = batch[1].to(device)\n",
        "        b_labels = batch[2].to(device)\n",
        "\n",
        "        # Tell pytorch not to bother with constructing the compute graph during\n",
        "        # the forward pass, since this is only needed for backprop (training).\n",
        "        with torch.no_grad():\n",
        "\n",
        "            # Forward pass, calculate logit predictions.\n",
        "            # token_type_ids is the same as the \"segment ids\", which\n",
        "            # differentiates sentence 1 and 2 in 2-sentence tasks.\n",
        "            # The documentation for this `model` function is here:\n",
        "            # https://huggingface.co/transformers/v2.2.0/model_doc/bert.html#transformers.BertForSequenceClassification\n",
        "            # Get the \"logits\" output by the model. The \"logits\" are the output\n",
        "            # values prior to applying an activation function like the softmax.\n",
        "            output_tensor = model(b_input_ids, b_input_mask)\n",
        "            sim_same = torch.mean(nn.CosineSimilarity(dim=1)(output_tensor, b_labels[:,:,0]))\n",
        "\n",
        "\n",
        "\n",
        "            sim_other = torch.mean(nn.CosineSimilarity(dim=1)(output_tensor.unsqueeze(-1).repeat(1,1,k - 1), b_labels[:,:,1:]))\n",
        "\n",
        "            loss = nn.functional.relu(1 - sim_same + sim_other)\n",
        "\n",
        "\n",
        "\n",
        "        # Accumulate the validation loss.\n",
        "        total_eval_loss += loss.item()\n",
        "\n",
        "\n",
        "    # Report the final accuracy for this validation run.\n",
        "\n",
        "\n",
        "    # Calculate the average loss over all of the batches.\n",
        "    avg_val_loss = total_eval_loss / len(validation_dataloader)\n",
        "\n",
        "    # Measure how long the validation run took.\n",
        "\n",
        "    print(\"  Validation Loss: {0:.2f}\".format(avg_val_loss))\n",
        "\n",
        "    # Record all statistics from this epoch.\n",
        "    training_stats.append(\n",
        "        {\n",
        "            'epoch': epoch_i + 1,\n",
        "            'Training Loss': avg_train_loss,\n",
        "            'Valid. Loss': avg_val_loss,\n",
        "        }\n",
        "    )\n",
        "\n",
        "print(\"\")\n",
        "print(\"Training complete!\")"
      ],
      "metadata": {
        "colab": {
          "base_uri": "https://localhost:8080/",
          "height": 1000
        },
        "id": "HHPy4rrmq_-o",
        "outputId": "86677b0d-0d71-4d3b-b0f6-2b87bdd585a0"
      },
      "execution_count": null,
      "outputs": [
        {
          "output_type": "stream",
          "name": "stdout",
          "text": [
            "\n",
            "======== Epoch 1 / 100 ========\n",
            "Training...\n",
            "\n",
            "  Average training loss: 0.99\n",
            "\n",
            "Running Validation...\n",
            "  Validation Loss: 0.94\n",
            "\n",
            "======== Epoch 2 / 100 ========\n",
            "Training...\n",
            "\n",
            "  Average training loss: 0.90\n",
            "\n",
            "Running Validation...\n",
            "  Validation Loss: 0.88\n",
            "\n",
            "======== Epoch 3 / 100 ========\n",
            "Training...\n",
            "\n",
            "  Average training loss: 0.82\n",
            "\n",
            "Running Validation...\n",
            "  Validation Loss: 0.83\n",
            "\n",
            "======== Epoch 4 / 100 ========\n",
            "Training...\n",
            "\n",
            "  Average training loss: 0.76\n",
            "\n",
            "Running Validation...\n",
            "  Validation Loss: 0.79\n",
            "\n",
            "======== Epoch 5 / 100 ========\n",
            "Training...\n",
            "\n",
            "  Average training loss: 0.72\n",
            "\n",
            "Running Validation...\n",
            "  Validation Loss: 0.77\n",
            "\n",
            "======== Epoch 6 / 100 ========\n",
            "Training...\n",
            "\n",
            "  Average training loss: 0.68\n",
            "\n",
            "Running Validation...\n",
            "  Validation Loss: 0.76\n",
            "\n",
            "======== Epoch 7 / 100 ========\n",
            "Training...\n",
            "\n",
            "  Average training loss: 0.65\n",
            "\n",
            "Running Validation...\n",
            "  Validation Loss: 0.74\n",
            "\n",
            "======== Epoch 8 / 100 ========\n",
            "Training...\n",
            "\n",
            "  Average training loss: 0.63\n",
            "\n",
            "Running Validation...\n",
            "  Validation Loss: 0.73\n",
            "\n",
            "======== Epoch 9 / 100 ========\n",
            "Training...\n",
            "\n",
            "  Average training loss: 0.61\n",
            "\n",
            "Running Validation...\n",
            "  Validation Loss: 0.73\n",
            "\n",
            "======== Epoch 10 / 100 ========\n",
            "Training...\n",
            "\n",
            "  Average training loss: 0.59\n",
            "\n",
            "Running Validation...\n",
            "  Validation Loss: 0.73\n",
            "\n",
            "======== Epoch 11 / 100 ========\n",
            "Training...\n"
          ]
        },
        {
          "output_type": "error",
          "ename": "KeyboardInterrupt",
          "evalue": "ignored",
          "traceback": [
            "\u001b[0;31m---------------------------------------------------------------------------\u001b[0m",
            "\u001b[0;31mKeyboardInterrupt\u001b[0m                         Traceback (most recent call last)",
            "\u001b[0;32m<ipython-input-126-21b923679701>\u001b[0m in \u001b[0;36m<cell line: 3>\u001b[0;34m()\u001b[0m\n\u001b[1;32m     77\u001b[0m \u001b[0;34m\u001b[0m\u001b[0m\n\u001b[1;32m     78\u001b[0m         \u001b[0;31m# Perform a backward pass to calculate the gradients.\u001b[0m\u001b[0;34m\u001b[0m\u001b[0;34m\u001b[0m\u001b[0m\n\u001b[0;32m---> 79\u001b[0;31m         \u001b[0mloss\u001b[0m\u001b[0;34m.\u001b[0m\u001b[0mbackward\u001b[0m\u001b[0;34m(\u001b[0m\u001b[0;34m)\u001b[0m\u001b[0;34m\u001b[0m\u001b[0;34m\u001b[0m\u001b[0m\n\u001b[0m\u001b[1;32m     80\u001b[0m \u001b[0;34m\u001b[0m\u001b[0m\n\u001b[1;32m     81\u001b[0m         \u001b[0;31m# Clip the norm of the gradients to 1.0.\u001b[0m\u001b[0;34m\u001b[0m\u001b[0;34m\u001b[0m\u001b[0m\n",
            "\u001b[0;32m/usr/local/lib/python3.10/dist-packages/torch/_tensor.py\u001b[0m in \u001b[0;36mbackward\u001b[0;34m(self, gradient, retain_graph, create_graph, inputs)\u001b[0m\n\u001b[1;32m    490\u001b[0m                 \u001b[0minputs\u001b[0m\u001b[0;34m=\u001b[0m\u001b[0minputs\u001b[0m\u001b[0;34m,\u001b[0m\u001b[0;34m\u001b[0m\u001b[0;34m\u001b[0m\u001b[0m\n\u001b[1;32m    491\u001b[0m             )\n\u001b[0;32m--> 492\u001b[0;31m         torch.autograd.backward(\n\u001b[0m\u001b[1;32m    493\u001b[0m             \u001b[0mself\u001b[0m\u001b[0;34m,\u001b[0m \u001b[0mgradient\u001b[0m\u001b[0;34m,\u001b[0m \u001b[0mretain_graph\u001b[0m\u001b[0;34m,\u001b[0m \u001b[0mcreate_graph\u001b[0m\u001b[0;34m,\u001b[0m \u001b[0minputs\u001b[0m\u001b[0;34m=\u001b[0m\u001b[0minputs\u001b[0m\u001b[0;34m\u001b[0m\u001b[0;34m\u001b[0m\u001b[0m\n\u001b[1;32m    494\u001b[0m         )\n",
            "\u001b[0;32m/usr/local/lib/python3.10/dist-packages/torch/autograd/__init__.py\u001b[0m in \u001b[0;36mbackward\u001b[0;34m(tensors, grad_tensors, retain_graph, create_graph, grad_variables, inputs)\u001b[0m\n\u001b[1;32m    249\u001b[0m     \u001b[0;31m# some Python versions print out the first line of a multi-line function\u001b[0m\u001b[0;34m\u001b[0m\u001b[0;34m\u001b[0m\u001b[0m\n\u001b[1;32m    250\u001b[0m     \u001b[0;31m# calls in the traceback and some print out the last line\u001b[0m\u001b[0;34m\u001b[0m\u001b[0;34m\u001b[0m\u001b[0m\n\u001b[0;32m--> 251\u001b[0;31m     Variable._execution_engine.run_backward(  # Calls into the C++ engine to run the backward pass\n\u001b[0m\u001b[1;32m    252\u001b[0m         \u001b[0mtensors\u001b[0m\u001b[0;34m,\u001b[0m\u001b[0;34m\u001b[0m\u001b[0;34m\u001b[0m\u001b[0m\n\u001b[1;32m    253\u001b[0m         \u001b[0mgrad_tensors_\u001b[0m\u001b[0;34m,\u001b[0m\u001b[0;34m\u001b[0m\u001b[0;34m\u001b[0m\u001b[0m\n",
            "\u001b[0;31mKeyboardInterrupt\u001b[0m: "
          ]
        }
      ]
    },
    {
      "cell_type": "code",
      "source": [
        "# cos_sim for any two elements?\n",
        "#torch.save(model.state_dict(), \"/content/BERT_model.pt\")\n",
        "\n",
        "#input_ids[i]\n",
        "\n"
      ],
      "metadata": {
        "id": "V0oS1d4GnPHv",
        "colab": {
          "base_uri": "https://localhost:8080/"
        },
        "outputId": "872c483a-f762-43f6-a1a0-b6b0f1109fbd"
      },
      "execution_count": null,
      "outputs": [
        {
          "output_type": "execute_result",
          "data": {
            "text/plain": [
              "tensor([  101, 22454,  7329,  2017,  2491,  2131,  1009,  1016,  1013,  1009,\n",
              "         1016,  1012,   102,     0,     0,     0,     0,     0,     0,     0,\n",
              "            0,     0,     0,     0,     0,     0,     0,     0,     0,     0,\n",
              "            0,     0,     0,     0,     0,     0,     0,     0,     0,     0,\n",
              "            0,     0,     0,     0,     0,     0,     0,     0,     0,     0,\n",
              "            0,     0,     0,     0,     0,     0,     0,     0,     0,     0,\n",
              "            0,     0,     0,     0,     0,     0,     0,     0,     0,     0,\n",
              "            0,     0,     0,     0,     0,     0,     0,     0,     0,     0,\n",
              "            0,     0,     0,     0,     0,     0,     0,     0,     0,     0,\n",
              "            0,     0,     0,     0,     0,     0,     0,     0,     0,     0,\n",
              "            0,     0,     0,     0,     0,     0,     0,     0,     0,     0,\n",
              "            0,     0,     0,     0,     0,     0,     0,     0,     0,     0,\n",
              "            0,     0,     0,     0,     0,     0,     0,     0,     0,     0,\n",
              "            0])"
            ]
          },
          "metadata": {},
          "execution_count": 229
        }
      ]
    },
    {
      "cell_type": "code",
      "source": [
        "train_losses = [s['Training Loss'] for s in training_stats]\n",
        "valid_losses = [s['Valid. Loss'] for s in training_stats]\n",
        "epochs = [s['epoch'] for s in training_stats]\n",
        "\n",
        "plt.plot(epochs, train_losses, label=\"Training Loss\")\n",
        "plt.plot(epochs, valid_losses, label=\"Validation Loss\")\n",
        "plt.xlabel(\"Epoch\")\n",
        "plt.ylabel(\"Loss\")\n",
        "plt.legend()\n",
        "plt.title(\"Learning/Validation Curves, BERT\")\n",
        "plt.ylim(.5, 1.0)\n",
        "plt.savefig(\"Learning_Curve_Bert.png\")"
      ],
      "metadata": {
        "colab": {
          "base_uri": "https://localhost:8080/",
          "height": 472
        },
        "id": "4QP_zBYJQ_WA",
        "outputId": "d9e1b206-e25f-41cc-c27a-694cc09cc6a0"
      },
      "execution_count": null,
      "outputs": [
        {
          "output_type": "display_data",
          "data": {
            "text/plain": [
              "<Figure size 640x480 with 1 Axes>"
            ],
            "image/png": "[encoded data removed]"
          },
          "metadata": {}
        }
      ]
    },
    {
      "cell_type": "code",
      "source": [
        "attention_masks.shape"
      ],
      "metadata": {
        "colab": {
          "base_uri": "https://localhost:8080/"
        },
        "id": "RqNuRFnPE489",
        "outputId": "a80ecb07-7cca-45bc-8f6f-aa9860a1129e"
      },
      "execution_count": null,
      "outputs": [
        {
          "output_type": "execute_result",
          "data": {
            "text/plain": [
              "torch.Size([279, 131])"
            ]
          },
          "metadata": {},
          "execution_count": 18
        }
      ]
    },
    {
      "cell_type": "code",
      "source": [
        "model.load_state_dict(torch.\n",
        "                      load(\"/content/BERT_model.pt\"))"
      ],
      "metadata": {
        "colab": {
          "base_uri": "https://localhost:8080/"
        },
        "id": "YqIZmC26C04X",
        "outputId": "f42da21d-f8d6-46b6-f64f-f12c7ef17068"
      },
      "execution_count": null,
      "outputs": [
        {
          "output_type": "execute_result",
          "data": {
            "text/plain": [
              "<All keys matched successfully>"
            ]
          },
          "metadata": {},
          "execution_count": 10
        }
      ]
    },
    {
      "cell_type": "code",
      "source": [
        "## Pairwise testing\n",
        "device = \"cuda\" if torch.cuda.is_available() else \"cpu\"\n",
        "\n",
        "model.cuda()\n",
        "model.eval()\n",
        "\n",
        "tensors = []\n",
        "with torch.no_grad():\n",
        "  for i in range(len(input_ids)):\n",
        "    tensor = model(input_ids[i].unsqueeze(0).to(device), attention_masks[i].unsqueeze(0).to(device))\n",
        "    tensors.append(tensor)\n",
        "\n",
        "tensor_results = torch.cat(tensors, dim=0)"
      ],
      "metadata": {
        "id": "v6Gpxu3OJF-A"
      },
      "execution_count": null,
      "outputs": []
    },
    {
      "cell_type": "code",
      "source": [
        "tensor_results = torch.Tensor.numpy(tensor_results, force=True)"
      ],
      "metadata": {
        "id": "XdMLZW-d-i9c",
        "colab": {
          "base_uri": "https://localhost:8080/",
          "height": 191
        },
        "outputId": "864c5eb4-6626-470f-b2c4-2b0c13c0fa3a"
      },
      "execution_count": null,
      "outputs": [
        {
          "output_type": "error",
          "ename": "TypeError",
          "evalue": "ignored",
          "traceback": [
            "\u001b[0;31m---------------------------------------------------------------------------\u001b[0m",
            "\u001b[0;31mTypeError\u001b[0m                                 Traceback (most recent call last)",
            "\u001b[0;32m<ipython-input-205-ddd104cf384b>\u001b[0m in \u001b[0;36m<cell line: 1>\u001b[0;34m()\u001b[0m\n\u001b[0;32m----> 1\u001b[0;31m \u001b[0mtensor_results\u001b[0m \u001b[0;34m=\u001b[0m \u001b[0mtorch\u001b[0m\u001b[0;34m.\u001b[0m\u001b[0mTensor\u001b[0m\u001b[0;34m.\u001b[0m\u001b[0mnumpy\u001b[0m\u001b[0;34m(\u001b[0m\u001b[0mtensor_results\u001b[0m\u001b[0;34m,\u001b[0m \u001b[0mforce\u001b[0m\u001b[0;34m=\u001b[0m\u001b[0;32mTrue\u001b[0m\u001b[0;34m)\u001b[0m\u001b[0;34m\u001b[0m\u001b[0;34m\u001b[0m\u001b[0m\n\u001b[0m",
            "\u001b[0;31mTypeError\u001b[0m: descriptor 'numpy' for 'torch._C._TensorBase' objects doesn't apply to a 'numpy.ndarray' object"
          ]
        }
      ]
    },
    {
      "cell_type": "code",
      "source": [
        "card_names = [card_names[i] for i in range(len(card_names)) if set_data[i] is not None]\n",
        "len(card_names)"
      ],
      "metadata": {
        "colab": {
          "base_uri": "https://localhost:8080/"
        },
        "id": "Sluhlw2bAbWU",
        "outputId": "9f20f945-72e5-4368-820e-9d84b3096455"
      },
      "execution_count": null,
      "outputs": [
        {
          "output_type": "execute_result",
          "data": {
            "text/plain": [
              "279"
            ]
          },
          "metadata": {},
          "execution_count": 192
        }
      ]
    },
    {
      "cell_type": "code",
      "source": [
        "import matplotlib.pyplot as plt\n",
        "import numpy as np\n",
        "\n",
        "tsne = TSNE(perplexity=20)\n",
        "tensor_data = tsne.fit_transform(tensor_results)\n",
        "\n",
        "card_names = [[card] for card in card_names]\n",
        "tensor_data = np.append(tensor_data, card_names, axis=1)\n",
        "tensor_data.savetxt(\"TSNE_data.csv\")"
      ],
      "metadata": {
        "colab": {
          "base_uri": "https://localhost:8080/",
          "height": 208
        },
        "id": "GP0GtfGg-zue",
        "outputId": "79f4121f-a596-41bc-e631-7877af3b2b50"
      },
      "execution_count": null,
      "outputs": [
        {
          "output_type": "error",
          "ename": "AttributeError",
          "evalue": "ignored",
          "traceback": [
            "\u001b[0;31m---------------------------------------------------------------------------\u001b[0m",
            "\u001b[0;31mAttributeError\u001b[0m                            Traceback (most recent call last)",
            "\u001b[0;32m<ipython-input-193-4cc9991781d6>\u001b[0m in \u001b[0;36m<cell line: 9>\u001b[0;34m()\u001b[0m\n\u001b[1;32m      7\u001b[0m \u001b[0mcard_names\u001b[0m \u001b[0;34m=\u001b[0m \u001b[0;34m[\u001b[0m\u001b[0;34m[\u001b[0m\u001b[0mcard\u001b[0m\u001b[0;34m]\u001b[0m \u001b[0;32mfor\u001b[0m \u001b[0mcard\u001b[0m \u001b[0;32min\u001b[0m \u001b[0mcard_names\u001b[0m\u001b[0;34m]\u001b[0m\u001b[0;34m\u001b[0m\u001b[0;34m\u001b[0m\u001b[0m\n\u001b[1;32m      8\u001b[0m \u001b[0mtensor_data\u001b[0m \u001b[0;34m=\u001b[0m \u001b[0mnp\u001b[0m\u001b[0;34m.\u001b[0m\u001b[0mappend\u001b[0m\u001b[0;34m(\u001b[0m\u001b[0mtensor_data\u001b[0m\u001b[0;34m,\u001b[0m \u001b[0mcard_names\u001b[0m\u001b[0;34m,\u001b[0m \u001b[0maxis\u001b[0m\u001b[0;34m=\u001b[0m\u001b[0;36m1\u001b[0m\u001b[0;34m)\u001b[0m\u001b[0;34m\u001b[0m\u001b[0;34m\u001b[0m\u001b[0m\n\u001b[0;32m----> 9\u001b[0;31m \u001b[0mtensor_data\u001b[0m\u001b[0;34m.\u001b[0m\u001b[0msavetxt\u001b[0m\u001b[0;34m(\u001b[0m\u001b[0;34m\"TSNE_data.csv\"\u001b[0m\u001b[0;34m)\u001b[0m\u001b[0;34m\u001b[0m\u001b[0;34m\u001b[0m\u001b[0m\n\u001b[0m",
            "\u001b[0;31mAttributeError\u001b[0m: 'numpy.ndarray' object has no attribute 'savetxt'"
          ]
        }
      ]
    },
    {
      "cell_type": "code",
      "source": [
        "tensor_data = np.append(tensor_data, colors, axis=1)"
      ],
      "metadata": {
        "id": "zwBP1J_1JY_4",
        "colab": {
          "base_uri": "https://localhost:8080/",
          "height": 453
        },
        "outputId": "ed8e04de-ad4c-4352-db86-7ba0357dfb2d"
      },
      "execution_count": null,
      "outputs": [
        {
          "output_type": "error",
          "ename": "ValueError",
          "evalue": "ignored",
          "traceback": [
            "\u001b[0;31m---------------------------------------------------------------------------\u001b[0m",
            "\u001b[0;31mValueError\u001b[0m                                Traceback (most recent call last)",
            "\u001b[0;32m<ipython-input-208-b95facd30e65>\u001b[0m in \u001b[0;36m<cell line: 1>\u001b[0;34m()\u001b[0m\n\u001b[0;32m----> 1\u001b[0;31m \u001b[0mtensor_data\u001b[0m \u001b[0;34m=\u001b[0m \u001b[0mnp\u001b[0m\u001b[0;34m.\u001b[0m\u001b[0mappend\u001b[0m\u001b[0;34m(\u001b[0m\u001b[0mtensor_data\u001b[0m\u001b[0;34m,\u001b[0m \u001b[0mcolors\u001b[0m\u001b[0;34m,\u001b[0m \u001b[0maxis\u001b[0m\u001b[0;34m=\u001b[0m\u001b[0;36m1\u001b[0m\u001b[0;34m)\u001b[0m\u001b[0;34m\u001b[0m\u001b[0;34m\u001b[0m\u001b[0m\n\u001b[0m",
            "\u001b[0;32m/usr/local/lib/python3.10/dist-packages/numpy/core/overrides.py\u001b[0m in \u001b[0;36mappend\u001b[0;34m(*args, **kwargs)\u001b[0m\n",
            "\u001b[0;32m/usr/local/lib/python3.10/dist-packages/numpy/lib/function_base.py\u001b[0m in \u001b[0;36mappend\u001b[0;34m(arr, values, axis)\u001b[0m\n\u001b[1;32m   5442\u001b[0m         \u001b[0mvalues\u001b[0m \u001b[0;34m=\u001b[0m \u001b[0mravel\u001b[0m\u001b[0;34m(\u001b[0m\u001b[0mvalues\u001b[0m\u001b[0;34m)\u001b[0m\u001b[0;34m\u001b[0m\u001b[0;34m\u001b[0m\u001b[0m\n\u001b[1;32m   5443\u001b[0m         \u001b[0maxis\u001b[0m \u001b[0;34m=\u001b[0m \u001b[0marr\u001b[0m\u001b[0;34m.\u001b[0m\u001b[0mndim\u001b[0m\u001b[0;34m-\u001b[0m\u001b[0;36m1\u001b[0m\u001b[0;34m\u001b[0m\u001b[0;34m\u001b[0m\u001b[0m\n\u001b[0;32m-> 5444\u001b[0;31m     \u001b[0;32mreturn\u001b[0m \u001b[0mconcatenate\u001b[0m\u001b[0;34m(\u001b[0m\u001b[0;34m(\u001b[0m\u001b[0marr\u001b[0m\u001b[0;34m,\u001b[0m \u001b[0mvalues\u001b[0m\u001b[0;34m)\u001b[0m\u001b[0;34m,\u001b[0m \u001b[0maxis\u001b[0m\u001b[0;34m=\u001b[0m\u001b[0maxis\u001b[0m\u001b[0;34m)\u001b[0m\u001b[0;34m\u001b[0m\u001b[0;34m\u001b[0m\u001b[0m\n\u001b[0m\u001b[1;32m   5445\u001b[0m \u001b[0;34m\u001b[0m\u001b[0m\n\u001b[1;32m   5446\u001b[0m \u001b[0;34m\u001b[0m\u001b[0m\n",
            "\u001b[0;32m/usr/local/lib/python3.10/dist-packages/numpy/core/overrides.py\u001b[0m in \u001b[0;36mconcatenate\u001b[0;34m(*args, **kwargs)\u001b[0m\n",
            "\u001b[0;31mValueError\u001b[0m: all the input arrays must have same number of dimensions, but the array at index 0 has 2 dimension(s) and the array at index 1 has 1 dimension(s)"
          ]
        }
      ]
    },
    {
      "cell_type": "code",
      "source": [
        "for i in range(len(colors)):\n",
        "  if len(colors[i]) > 1:\n",
        "    colors[i] = [\"Multi\"]\n",
        "  elif len(colors[i]) == 0:\n",
        "    colors[i] = [\"None\"]"
      ],
      "metadata": {
        "id": "imdvcGMYJfcd"
      },
      "execution_count": null,
      "outputs": []
    },
    {
      "cell_type": "code",
      "source": [
        "df = pd.DataFrame(tensor_data)\n",
        "df.to_csv(\"TSNE_data.csv\")"
      ],
      "metadata": {
        "id": "0xxKu9CwBMxE"
      },
      "execution_count": null,
      "outputs": []
    },
    {
      "cell_type": "code",
      "source": [
        "tensor_norms = nn.functional.normalize(tensor_results, dim=0)\n",
        "sims = torch.mm(tensor_norms, tensor_norms.t())"
      ],
      "metadata": {
        "id": "gIb08dcXp6rw"
      },
      "execution_count": null,
      "outputs": []
    },
    {
      "cell_type": "code",
      "source": [
        "import seaborn as sns\n",
        "df = pd.DataFrame(tensor_data, columns=['x', 'y', 'name', 'color'])\n",
        "sns.scatterplot(df, x='x', y='y', hue='color')"
      ],
      "metadata": {
        "colab": {
          "base_uri": "https://localhost:8080/",
          "height": 466
        },
        "id": "mjlOzeah3A-B",
        "outputId": "805ef412-4c34-4ab0-98d5-a8bf378a57f9"
      },
      "execution_count": null,
      "outputs": [
        {
          "output_type": "execute_result",
          "data": {
            "text/plain": [
              "<Axes: xlabel='x', ylabel='y'>"
            ]
          },
          "metadata": {},
          "execution_count": 74
        },
        {
          "output_type": "display_data",
          "data": {
            "text/plain": [
              "<Figure size 640x480 with 1 Axes>"
            ],
            "image/png": "[encoded data removed]"
          },
          "metadata": {}
        }
      ]
    },
    {
      "cell_type": "code",
      "source": [
        "color_mapping = pd.read_pickle(\"color_mapping.pkl\")\n",
        "cluster_names = pd.read_pickle('cluster_names.pkl')\n",
        "\n",
        "print(cluster_names)"
      ],
      "metadata": {
        "colab": {
          "base_uri": "https://localhost:8080/"
        },
        "id": "nZdz9f0UPG-B",
        "outputId": "ef721fc5-befd-47dc-bfef-3f037ee7179e"
      },
      "execution_count": null,
      "outputs": [
        {
          "output_type": "stream",
          "name": "stdout",
          "text": [
            "{0: 'White', 1: 'Blue', 2: 'Black', 3: 'Red', 4: 'Green', 5: 'Colorless', 6: 'Multicolor', 7: 'Other'}\n"
          ]
        }
      ]
    },
    {
      "cell_type": "code",
      "source": [
        "color_map = {\"W\": 0, \"B\": 2, \"G\": 4, \"U\": 1, \"R\": 3, \"None\": 5, \"Multi\": 6}\n",
        "colors = [color_map[c[0]] for c in colors]"
      ],
      "metadata": {
        "id": "nqp4NeNVSHC5"
      },
      "execution_count": null,
      "outputs": []
    },
    {
      "cell_type": "code",
      "source": [
        "colors"
      ],
      "metadata": {
        "colab": {
          "base_uri": "https://localhost:8080/"
        },
        "id": "6HWvOig1Utcz",
        "outputId": "1cccc0ef-8db1-4429-bc20-28221bae3046"
      },
      "execution_count": null,
      "outputs": [
        {
          "output_type": "execute_result",
          "data": {
            "text/plain": [
              "[['W'],\n",
              " ['G', 'R'],\n",
              " ['G'],\n",
              " [],\n",
              " ['R'],\n",
              " ['U'],\n",
              " ['W'],\n",
              " ['W'],\n",
              " ['W'],\n",
              " ['U'],\n",
              " ['R', 'W'],\n",
              " ['B'],\n",
              " ['B'],\n",
              " ['U'],\n",
              " ['B'],\n",
              " ['B'],\n",
              " ['R'],\n",
              " ['B'],\n",
              " ['R'],\n",
              " ['G'],\n",
              " ['U'],\n",
              " ['W'],\n",
              " ['R'],\n",
              " ['G'],\n",
              " ['R'],\n",
              " ['G'],\n",
              " ['W'],\n",
              " ['B'],\n",
              " [],\n",
              " ['U'],\n",
              " ['W'],\n",
              " ['R'],\n",
              " [],\n",
              " ['G'],\n",
              " ['U'],\n",
              " ['W'],\n",
              " ['U'],\n",
              " [],\n",
              " ['U'],\n",
              " ['G'],\n",
              " ['W'],\n",
              " ['R'],\n",
              " ['B'],\n",
              " ['W'],\n",
              " ['U'],\n",
              " ['W'],\n",
              " ['U'],\n",
              " ['R'],\n",
              " ['B'],\n",
              " ['W'],\n",
              " [],\n",
              " ['R'],\n",
              " ['W'],\n",
              " ['B'],\n",
              " ['G'],\n",
              " ['R'],\n",
              " ['B', 'W'],\n",
              " [],\n",
              " ['B'],\n",
              " [],\n",
              " ['W'],\n",
              " ['U'],\n",
              " ['B'],\n",
              " ['B'],\n",
              " ['U'],\n",
              " ['B', 'G'],\n",
              " ['B'],\n",
              " ['G'],\n",
              " ['R'],\n",
              " ['R'],\n",
              " ['R'],\n",
              " ['U'],\n",
              " ['G'],\n",
              " ['R'],\n",
              " ['U'],\n",
              " ['U'],\n",
              " ['W'],\n",
              " ['U'],\n",
              " ['W'],\n",
              " ['G'],\n",
              " [],\n",
              " ['W'],\n",
              " ['R'],\n",
              " ['R'],\n",
              " ['R'],\n",
              " ['G'],\n",
              " ['R'],\n",
              " ['W'],\n",
              " ['W'],\n",
              " ['B', 'G'],\n",
              " ['W'],\n",
              " ['G'],\n",
              " ['G'],\n",
              " ['G'],\n",
              " ['G'],\n",
              " ['R'],\n",
              " ['U'],\n",
              " ['B'],\n",
              " ['W'],\n",
              " ['B'],\n",
              " ['G'],\n",
              " ['U', 'W'],\n",
              " [],\n",
              " ['U'],\n",
              " ['U'],\n",
              " ['R'],\n",
              " ['R'],\n",
              " ['U'],\n",
              " ['W'],\n",
              " ['U'],\n",
              " ['U'],\n",
              " [],\n",
              " ['U'],\n",
              " ['R', 'U'],\n",
              " ['W'],\n",
              " ['W'],\n",
              " ['R'],\n",
              " ['U'],\n",
              " ['W'],\n",
              " ['W'],\n",
              " ['R'],\n",
              " ['W'],\n",
              " ['G'],\n",
              " ['G'],\n",
              " ['U'],\n",
              " ['R'],\n",
              " ['W'],\n",
              " ['B'],\n",
              " ['B'],\n",
              " ['B', 'U'],\n",
              " ['U'],\n",
              " ['B'],\n",
              " ['B'],\n",
              " ['B'],\n",
              " ['R'],\n",
              " ['U'],\n",
              " ['R'],\n",
              " ['B'],\n",
              " ['U'],\n",
              " ['U'],\n",
              " ['W'],\n",
              " ['R'],\n",
              " ['W'],\n",
              " ['R'],\n",
              " ['G'],\n",
              " [],\n",
              " ['B', 'W'],\n",
              " ['G'],\n",
              " ['B'],\n",
              " ['B', 'U'],\n",
              " ['U'],\n",
              " ['B'],\n",
              " ['B'],\n",
              " ['G'],\n",
              " ['W'],\n",
              " [],\n",
              " ['W'],\n",
              " ['B'],\n",
              " ['G'],\n",
              " ['G'],\n",
              " [],\n",
              " ['W'],\n",
              " ['U'],\n",
              " ['R'],\n",
              " ['R'],\n",
              " ['B'],\n",
              " ['B'],\n",
              " ['R'],\n",
              " ['R'],\n",
              " ['R'],\n",
              " ['G'],\n",
              " ['G'],\n",
              " ['W'],\n",
              " ['R'],\n",
              " ['W'],\n",
              " [],\n",
              " [],\n",
              " [],\n",
              " [],\n",
              " [],\n",
              " ['W'],\n",
              " ['G'],\n",
              " ['W'],\n",
              " ['G'],\n",
              " ['R'],\n",
              " ['B'],\n",
              " ['B', 'R'],\n",
              " ['G'],\n",
              " ['G', 'R'],\n",
              " ['B'],\n",
              " ['W'],\n",
              " [],\n",
              " ['B'],\n",
              " ['G'],\n",
              " ['G'],\n",
              " ['U', 'W'],\n",
              " ['R'],\n",
              " ['B'],\n",
              " ['R'],\n",
              " ['G'],\n",
              " ['U'],\n",
              " ['U'],\n",
              " ['W'],\n",
              " ['W'],\n",
              " ['U'],\n",
              " ['R'],\n",
              " ['W'],\n",
              " ['R'],\n",
              " [],\n",
              " ['B'],\n",
              " ['U'],\n",
              " ['W'],\n",
              " ['G'],\n",
              " ['B'],\n",
              " ['U'],\n",
              " ['U'],\n",
              " ['B'],\n",
              " ['B'],\n",
              " ['W'],\n",
              " ['R'],\n",
              " ['U'],\n",
              " ['W'],\n",
              " ['U'],\n",
              " ['B'],\n",
              " ['B'],\n",
              " ['B'],\n",
              " ['G', 'W'],\n",
              " [],\n",
              " ['B'],\n",
              " ['U'],\n",
              " ['B', 'U'],\n",
              " ['B'],\n",
              " ['G'],\n",
              " ['R'],\n",
              " ['U'],\n",
              " ['G'],\n",
              " ['R', 'U'],\n",
              " ['B'],\n",
              " ['G', 'U'],\n",
              " ['G'],\n",
              " [],\n",
              " ['W'],\n",
              " ['B'],\n",
              " ['W'],\n",
              " [],\n",
              " ['G'],\n",
              " ['G'],\n",
              " ['G'],\n",
              " ['R'],\n",
              " ['B', 'R'],\n",
              " ['G'],\n",
              " ['G'],\n",
              " ['G', 'U'],\n",
              " ['W'],\n",
              " ['R'],\n",
              " ['B'],\n",
              " ['W'],\n",
              " ['G'],\n",
              " ['R'],\n",
              " ['G'],\n",
              " ['G'],\n",
              " ['B'],\n",
              " ['G'],\n",
              " ['B'],\n",
              " ['B'],\n",
              " ['B'],\n",
              " ['U'],\n",
              " ['G'],\n",
              " ['W'],\n",
              " ['B'],\n",
              " ['U', 'W'],\n",
              " ['R'],\n",
              " ['R'],\n",
              " ['G', 'W'],\n",
              " ['B'],\n",
              " ['G'],\n",
              " ['G'],\n",
              " ['U'],\n",
              " ['B']]"
            ]
          },
          "metadata": {},
          "execution_count": 105
        }
      ]
    },
    {
      "cell_type": "code",
      "source": [
        "print(cluster_names)"
      ],
      "metadata": {
        "colab": {
          "base_uri": "https://localhost:8080/"
        },
        "id": "Fnk3uWteULVd",
        "outputId": "54eb7f4a-ee81-4f0f-8aad-73b2f93d9831"
      },
      "execution_count": null,
      "outputs": [
        {
          "output_type": "stream",
          "name": "stdout",
          "text": [
            "{0: 'White', 1: 'Blue', 2: 'Black', 3: 'Red', 4: 'Green', 5: 'Colorless', 6: 'Multicolor', 7: 'Other'}\n"
          ]
        }
      ]
    },
    {
      "cell_type": "code",
      "source": [
        "tensor_data = tensor_data[:, :2].astype(\"float32\")"
      ],
      "metadata": {
        "id": "4ggfL20cULZ4"
      },
      "execution_count": null,
      "outputs": []
    },
    {
      "cell_type": "code",
      "source": [
        "plt.figure(figsize=(14, 10))\n",
        "for label, color in color_mapping.items():\n",
        "  indices = np.array(colors) == label\n",
        "\n",
        "  if label == 7:  # Underemphasize the 'Other' class\n",
        "    scatter = plt.scatter(tensor_data[indices, 0], tensor_data[indices, 1],\n",
        "                          marker='.', color=color, s=200, edgecolors='black', linewidths=0.3, alpha=0.5,\n",
        "                          label=cluster_names[label])\n",
        "  else:           # Emphasis all other classes\n",
        "    scatter = plt.scatter(tensor_data[indices, 0], tensor_data[indices, 1],\n",
        "                          marker='.', color=color, s=400, edgecolors='black', linewidths=0.5, alpha=0.95,\n",
        "                          label=cluster_names[label])\n",
        "\n",
        "plt.gcf().set_facecolor('whitesmoke')\n",
        "scatter.axes.set_facecolor('whitesmoke')\n",
        "plt.legend()\n",
        "plt.title(\"BERT t-SNE - Wilds of Eldraine\")\n",
        "plt.savefig(\"BERT_tsne.png\")"
      ],
      "metadata": {
        "colab": {
          "base_uri": "https://localhost:8080/",
          "height": 528
        },
        "id": "wYMHTCF3LxhW",
        "outputId": "f487b942-6215-4263-df1f-55ac95db35af"
      },
      "execution_count": null,
      "outputs": [
        {
          "output_type": "display_data",
          "data": {
            "text/plain": [
              "<Figure size 1400x1000 with 1 Axes>"
            ],
            "image/png": "[encoded data removed]"
          },
          "metadata": {}
        }
      ]
    },
    {
      "cell_type": "code",
      "source": [
        "#puzzles = pd.read_pickle(\"LTR_draft_puzzles.pkl\")\n",
        "\n",
        "\n",
        "for puzzle in puzzles:\n",
        "  score_1 = compare_cards(model, puzzle['context'][0], puzzle['choices'][0])\n",
        "  score_2 = compare_cards(model, puzzle['context'][0], puzzle['choices'][1])\n",
        "  if score_1 is None or score_2 is None:\n",
        "    print(\"No Result\")\n",
        "    continue\n",
        "\n",
        "  print(score_1, score_2)\n",
        "  if score_1 >= score_2:\n",
        "    print(puzzle['choices'][0])\n",
        "  else:\n",
        "    print(puzzle['choices'][1])"
      ],
      "metadata": {
        "colab": {
          "base_uri": "https://localhost:8080/"
        },
        "id": "ECWPOJNuS1t6",
        "outputId": "6c597cc9-7e6d-417c-ee3d-fe914f46ec3e"
      },
      "execution_count": null,
      "outputs": [
        {
          "output_type": "stream",
          "name": "stdout",
          "text": [
            "tensor([0.5095], device='cuda:0') tensor([0.3640], device='cuda:0')\n",
            "Relentless Rohirrim\n",
            "tensor([0.8696], device='cuda:0') tensor([0.4809], device='cuda:0')\n",
            "Easterling Vanguard\n",
            "tensor([0.3659], device='cuda:0') tensor([0.0117], device='cuda:0')\n",
            "Flowering of the White Tree\n",
            "tensor([0.8696], device='cuda:0') tensor([0.4326], device='cuda:0')\n",
            "Easterling Vanguard\n",
            "tensor([-0.0187], device='cuda:0') tensor([-0.0498], device='cuda:0')\n",
            "Shire Shirriff\n",
            "tensor([0.3767], device='cuda:0') tensor([0.4436], device='cuda:0')\n",
            "Stew the Coneys\n",
            "tensor([0.1130], device='cuda:0') tensor([0.3579], device='cuda:0')\n",
            "Voracious Fell Beast\n",
            "tensor([-0.2599], device='cuda:0') tensor([0.1265], device='cuda:0')\n",
            "Foray of Orcs\n"
          ]
        }
      ]
    },
    {
      "cell_type": "code",
      "source": [
        "puzzles = pd.read_pickle(\"LTR_draft_puzzles.pkl\")\n",
        "puzzles[4]['context'] = [\"Peregrin Took\"]\n",
        "print(puzzles)"
      ],
      "metadata": {
        "colab": {
          "base_uri": "https://localhost:8080/"
        },
        "id": "lKhj_gXpUeWP",
        "outputId": "c3e067c5-4345-48d9-8673-df6d3af68c4e"
      },
      "execution_count": null,
      "outputs": [
        {
          "output_type": "stream",
          "name": "stdout",
          "text": [
            "[{'context': ['Rohirrim Lancer'], 'choices': ['Relentless Rohirrim', 'Revive the Shire'], 'solutions': ['Relentless Rohirrm']}, {'context': ['Dunland Crebain'], 'choices': ['Easterling Vanguard', 'Hithlain Knots'], 'solutions': ['Easterling Vanguard']}, {'context': ['Errand-Rider of Gondor'], 'choices': ['Flowering of the White Tree', 'Orcish Medicine'], 'solutions': ['Flowering of the White Tree']}, {'context': ['Dunland Crebain'], 'choices': ['Easterling Vanguard', 'Ithilien Kingfisher'], 'solutions': ['Easterling Vanguard']}, {'context': ['Peregrin Took'], 'choices': ['Shire Shirriff', 'Mirkwood Spider'], 'solutions': ['Shire Shirriff']}, {'context': ['Smite the Deathless'], 'choices': [\"Ranger's Firebrand\", 'Stew the Coneys'], 'solutions': [\"Ranger's Firebrand\"]}, {'context': ['Old Man Willow'], 'choices': ['Entish Restoration', 'Voracious Fell Beast'], 'solutions': ['Entish Restoration']}, {'context': ['Rohirrim Lancer'], 'choices': ['Horn of Gondor', 'Foray of Orcs'], 'solutions': ['Horn of Gondor']}]\n"
          ]
        }
      ]
    },
    {
      "cell_type": "code",
      "source": [
        "print(get_card_text(\"Foray of Orcs\", scry_df))"
      ],
      "metadata": {
        "colab": {
          "base_uri": "https://localhost:8080/",
          "height": 174
        },
        "id": "G5pAHFYlTvkB",
        "outputId": "ea00099f-5d22-4211-9eb8-6e8879d6172e"
      },
      "execution_count": null,
      "outputs": [
        {
          "output_type": "error",
          "ename": "NameError",
          "evalue": "ignored",
          "traceback": [
            "\u001b[0;31m---------------------------------------------------------------------------\u001b[0m",
            "\u001b[0;31mNameError\u001b[0m                                 Traceback (most recent call last)",
            "\u001b[0;32m<ipython-input-81-c272b056df37>\u001b[0m in \u001b[0;36m<cell line: 1>\u001b[0;34m()\u001b[0m\n\u001b[0;32m----> 1\u001b[0;31m \u001b[0mprint\u001b[0m\u001b[0;34m(\u001b[0m\u001b[0mget_card_text\u001b[0m\u001b[0;34m(\u001b[0m\u001b[0;34m\"Foray of Orcs\"\u001b[0m\u001b[0;34m,\u001b[0m \u001b[0mscry_df\u001b[0m\u001b[0;34m)\u001b[0m\u001b[0;34m)\u001b[0m\u001b[0;34m\u001b[0m\u001b[0;34m\u001b[0m\u001b[0m\n\u001b[0m",
            "\u001b[0;31mNameError\u001b[0m: name 'get_card_text' is not defined"
          ]
        }
      ]
    },
    {
      "cell_type": "code",
      "source": [
        "sims = torch.triu(sims, diagonal=1)\n",
        "print(sims)"
      ],
      "metadata": {
        "colab": {
          "base_uri": "https://localhost:8080/"
        },
        "id": "GS6Cz_9KKCHZ",
        "outputId": "ab653c96-7e93-4b4a-f55d-7ca90cd07b2c"
      },
      "execution_count": null,
      "outputs": [
        {
          "output_type": "stream",
          "name": "stdout",
          "text": [
            "tensor([[ 0.0000,  0.0406, -0.0433,  ...,  0.0041, -0.2113, -0.0890],\n",
            "        [ 0.0000,  0.0000, -0.3958,  ...,  0.3754,  0.0678,  0.4584],\n",
            "        [ 0.0000,  0.0000,  0.0000,  ..., -0.2941, -0.3245, -0.4782],\n",
            "        ...,\n",
            "        [ 0.0000,  0.0000,  0.0000,  ...,  0.0000,  0.2910,  0.4627],\n",
            "        [ 0.0000,  0.0000,  0.0000,  ...,  0.0000,  0.0000,  0.2935],\n",
            "        [ 0.0000,  0.0000,  0.0000,  ...,  0.0000,  0.0000,  0.0000]],\n",
            "       device='cuda:0')\n"
          ]
        }
      ]
    },
    {
      "cell_type": "code",
      "source": [
        "import numpy as np\n",
        "v, i = torch.topk(1 * sims.cpu().flatten(), 5)\n",
        "top_5 = np.array(np.unravel_index(i.numpy(), sims.shape)).T"
      ],
      "metadata": {
        "id": "s7KjGOBLq0zp"
      },
      "execution_count": null,
      "outputs": []
    },
    {
      "cell_type": "code",
      "source": [
        "y[0,:,0]"
      ],
      "metadata": {
        "colab": {
          "base_uri": "https://localhost:8080/"
        },
        "id": "PHeFaWbLK1Uo",
        "outputId": "41c72e67-9323-4628-f75b-3a8745c4f10a"
      },
      "execution_count": null,
      "outputs": [
        {
          "output_type": "execute_result",
          "data": {
            "text/plain": [
              "tensor([ 0.1559,  0.9839,  1.5902,  0.9434,  0.8010,  0.3183, -0.0456, -0.1250,\n",
              "         1.8921, -2.6493, -1.4396, -2.1557,  0.4127,  0.8651,  2.3141, -0.2989,\n",
              "        -0.6735,  0.1725, -0.9971,  0.1775, -1.1656, -1.4390,  0.2124, -0.8609,\n",
              "        -1.1749, -0.1941,  0.8038,  2.1783,  0.3358, -0.7679, -1.1359,  0.8466,\n",
              "        -0.1260, -0.5093, -0.2572,  1.1915, -0.0562,  0.9246, -2.4059,  0.8186,\n",
              "        -0.2759, -0.5922, -1.4997,  0.6622, -0.7188,  0.6057, -0.2698,  0.0343,\n",
              "        -0.1149, -3.1368,  0.0820,  2.3799,  1.6064, -0.3453, -0.7601,  0.1571,\n",
              "         0.6994, -0.3665,  0.2889,  1.2306,  0.5800,  2.5126, -1.0609,  0.9815,\n",
              "         0.6300,  0.6999, -2.1176,  0.1753, -1.5527, -0.1524, -3.0380, -0.8899,\n",
              "         2.1186, -0.3723, -1.8296,  0.1211,  1.1555,  0.4963,  0.8188, -0.2053,\n",
              "        -0.7380, -1.4771, -0.2394,  1.9492,  0.3868,  1.1689,  1.3070, -0.3248,\n",
              "        -0.5310,  0.5961,  0.7601, -0.3232,  1.4111, -0.3489,  1.3027,  0.6407,\n",
              "         0.9220, -0.7972, -0.8295, -0.8424, -0.9864, -0.1547, -0.2892,  1.2998,\n",
              "        -0.7445,  1.2850,  0.8673,  0.0833,  0.0815, -1.2015, -0.5133, -2.0346,\n",
              "        -0.8428,  0.4057, -1.4690,  1.3523, -0.0757, -0.8820,  0.0032,  0.9953,\n",
              "         0.0560, -0.9521,  1.0354, -2.9899,  1.0166, -0.0453, -0.2796,  0.6377,\n",
              "        -0.6761, -1.0098, -0.5197,  0.6278, -0.3801,  0.1731,  0.1511, -0.2267,\n",
              "        -0.1185,  0.9211,  1.1667,  0.5350, -1.4266,  0.7945, -2.5908,  0.3023,\n",
              "        -0.4127, -0.3336,  1.6525, -1.3855,  0.0236, -0.0625,  2.2957, -2.7670,\n",
              "         1.8837,  0.1460, -0.4787,  1.9537,  0.5649,  0.7429,  0.8361, -1.3874,\n",
              "         1.1909, -0.1879, -0.8785,  0.2443, -0.2177,  0.0129,  0.8586,  1.7096,\n",
              "         0.7214,  1.7389,  0.1009, -0.1716, -0.6998, -0.5952,  1.2952,  1.2940,\n",
              "         0.7075,  0.1283,  0.2249,  0.9057,  1.7665,  0.3462, -0.0624, -0.1954,\n",
              "        -1.9213, -0.6347, -0.6096,  0.0536, -0.4695, -0.3841, -1.5083, -0.8640,\n",
              "         0.8755, -1.1309,  0.9880, -0.4164,  2.2744, -0.5973,  1.1899,  1.3397,\n",
              "        -0.6223, -1.2935, -0.2631,  1.3232, -0.2372,  2.1985,  0.4112, -1.2331,\n",
              "         0.5049,  0.0658, -0.7664,  0.3523,  0.5745, -0.2169,  1.3470, -2.8971,\n",
              "         0.4384, -0.6785, -1.0585, -0.6874, -0.3314,  0.3187, -1.6203,  0.6434,\n",
              "         1.6540,  2.0599,  1.2356, -0.2589,  0.0305,  0.4916, -1.1490,  0.4447,\n",
              "        -0.9129, -1.2364, -0.1518, -0.7022, -2.1170,  0.6474,  0.4585, -0.4657,\n",
              "        -0.6203,  0.5949, -1.7687, -1.0495,  0.4591,  0.4856, -0.1058,  0.3057,\n",
              "         1.8978,  2.1549, -1.2378, -0.2556,  0.4049, -1.2214, -0.8810,  0.7841,\n",
              "        -1.6183,  2.1346,  0.8869, -0.5217, -1.1502, -1.1445,  1.0649, -0.4801,\n",
              "        -1.9427, -0.1675,  1.2711,  0.9889,  0.2382,  0.1969, -2.0853,  1.4214,\n",
              "        -2.5211, -0.2726, -0.9925, -0.6001, -0.0159, -1.5844, -0.5562,  1.4114,\n",
              "        -0.0148, -1.2046,  0.9463, -0.9360, -0.1358,  1.2745, -0.5155,  1.2983,\n",
              "         1.9128,  0.8393,  1.2423,  0.2344, -2.4691, -1.1591,  2.3867, -1.0873,\n",
              "        -1.2067, -0.2291, -0.8667, -1.7474], device='cuda:0')"
            ]
          },
          "metadata": {},
          "execution_count": 236
        }
      ]
    },
    {
      "cell_type": "code",
      "source": [
        "extant_data = [s for s in set_data if s is not None]\n",
        "\n",
        "cos_sim = nn.CosineSimilarity(dim=0)\n",
        "\n",
        "top_5_data = []\n",
        "\n",
        "for i in range(top_5.shape[0]):\n",
        "  first_index, second_index = top_5[i]\n",
        "  first_card, second_card = extant_data[first_index]['name'], extant_data[second_index]['name']\n",
        "  first_text, second_text = extant_data[first_index]['oracle_text'], extant_data[second_index]['oracle_text']\n",
        "  card2vec_sim = cos_sim(y[:,:,0][first_index], y[:,:,0][second_index])\n",
        "  top_5_data.append({\"First Card\": first_card, \"First Text\": first_text, \"Second Card\": second_card, \"Second Text\": second_text, \"Card2Vec Sim\": card2vec_sim})"
      ],
      "metadata": {
        "id": "7PVDev7P3XO0"
      },
      "execution_count": null,
      "outputs": []
    },
    {
      "cell_type": "code",
      "source": [
        "df = pd.DataFrame(top_5_data)\n",
        "df.to_csv(\"top_5_data.csv\")"
      ],
      "metadata": {
        "id": "1ZxW3cbl8Qcs"
      },
      "execution_count": null,
      "outputs": []
    },
    {
      "cell_type": "code",
      "source": [
        "for i in range(top_5.shape[0]):\n",
        "  first_index, second_index = top_5[i]\n",
        "  print(nn.CosineSimilarity(dim=0)(y[first_index], y[second_index]))"
      ],
      "metadata": {
        "colab": {
          "base_uri": "https://localhost:8080/"
        },
        "id": "nW-arQHS6Db6",
        "outputId": "e71c32ea-69cc-4916-b1e5-a999ba8e5ed9"
      },
      "execution_count": null,
      "outputs": [
        {
          "output_type": "stream",
          "name": "stdout",
          "text": [
            "tensor(0.7721, device='cuda:0')\n",
            "tensor(0.8196, device='cuda:0')\n",
            "tensor(0.7519, device='cuda:0')\n",
            "tensor(0.8303, device='cuda:0')\n",
            "tensor(0.5470, device='cuda:0')\n"
          ]
        }
      ]
    },
    {
      "cell_type": "code",
      "source": [
        "print()"
      ],
      "metadata": {
        "id": "e5zhsK5X5pnz"
      },
      "execution_count": null,
      "outputs": []
    },
    {
      "cell_type": "code",
      "source": [
        "for i in range(sims.shape[0]):\n",
        "  sims[i,i] = 0"
      ],
      "metadata": {
        "id": "nTaVTwp5kGz7"
      },
      "execution_count": null,
      "outputs": []
    },
    {
      "cell_type": "code",
      "source": [
        "pairs = []\n",
        "for i in input_ids:\n",
        "  for j in input_ids:\n",
        "    pairs.append(torch.cat([i,j]))\n",
        "pairs = torch.stack(pairs, dim=0)\n",
        "pairs = pairs.reshape(244,244, 128)"
      ],
      "metadata": {
        "id": "yV7bkUhBjP8D"
      },
      "execution_count": null,
      "outputs": []
    },
    {
      "cell_type": "code",
      "source": [
        "mask_pairs = []\n",
        "for i in attention_masks:\n",
        "  for j in attention_masks:\n",
        "    mask_pairs.append(torch.cat([i,j]))\n",
        "mask_pairs = torch.stack(mask_pairs, dim=0)\n",
        "mask_pairs = mask_pairs.reshape(244,244, 128)\n",
        "#mask_pairs = mask_pairs.reshape(len(attention_masks), len(attention_masks), -1)"
      ],
      "metadata": {
        "id": "2F1WgSuP0SZI"
      },
      "execution_count": null,
      "outputs": []
    },
    {
      "cell_type": "code",
      "source": [
        "pairs_data = torch.cat([pairs.unsqueeze(-1).to(device), mask_pairs.unsqueeze(-1).to(device), sims.to(device)], -1)"
      ],
      "metadata": {
        "id": "qoMZ5709jfGG"
      },
      "execution_count": null,
      "outputs": []
    },
    {
      "cell_type": "code",
      "source": [
        "pairs_data = torch.flatten(pairs_data, start_dim=0, end_dim=1)\n",
        "pairs_data.shape"
      ],
      "metadata": {
        "colab": {
          "base_uri": "https://localhost:8080/"
        },
        "id": "3kOs9PFpSzAQ",
        "outputId": "02704c7a-26c8-436d-c72e-93957219c1eb"
      },
      "execution_count": null,
      "outputs": [
        {
          "output_type": "execute_result",
          "data": {
            "text/plain": [
              "torch.Size([59536, 128, 3])"
            ]
          },
          "metadata": {},
          "execution_count": 23
        }
      ]
    },
    {
      "cell_type": "code",
      "source": [
        "keep_indices = torch.unique(torch.nonzero(pairs_data[:,:,2], as_tuple=True)[0])\n",
        "\n",
        "pairs_data = pairs_data[keep_indices]"
      ],
      "metadata": {
        "id": "mkIsf-Yekj4R"
      },
      "execution_count": null,
      "outputs": []
    },
    {
      "cell_type": "code",
      "source": [
        "sim_scores = pairs_data[:, 0, 2]\n",
        "input_pairs = pairs_data[:, :, 0].type(torch.IntTensor)\n",
        "mask_pairs = pairs_data[:, :, 1].type(torch.IntTensor)"
      ],
      "metadata": {
        "id": "7RKAgSrExWbB"
      },
      "execution_count": null,
      "outputs": []
    },
    {
      "cell_type": "code",
      "source": [
        "input_pairs.shape"
      ],
      "metadata": {
        "id": "7-M_GjXYq76p",
        "outputId": "f85db44f-f3f0-4e40-cf22-06278005fbcc",
        "colab": {
          "base_uri": "https://localhost:8080/"
        }
      },
      "execution_count": null,
      "outputs": [
        {
          "output_type": "execute_result",
          "data": {
            "text/plain": [
              "torch.Size([29890, 128])"
            ]
          },
          "metadata": {},
          "execution_count": 27
        }
      ]
    },
    {
      "cell_type": "code",
      "source": [],
      "metadata": {
        "id": "SHB12uAnx0Yz"
      },
      "execution_count": null,
      "outputs": []
    },
    {
      "cell_type": "code",
      "source": [],
      "metadata": {
        "id": "ODLSO9RTy87A"
      },
      "execution_count": null,
      "outputs": []
    },
    {
      "cell_type": "code",
      "source": [
        "type(pairs)"
      ],
      "metadata": {
        "id": "CwsWyrtvzwo-"
      },
      "execution_count": null,
      "outputs": []
    },
    {
      "cell_type": "markdown",
      "source": [],
      "metadata": {
        "id": "xXnkkEGV5vlE"
      }
    },
    {
      "cell_type": "code",
      "source": [],
      "metadata": {
        "id": "r69uS4O4z1XH"
      },
      "execution_count": null,
      "outputs": []
    },
    {
      "cell_type": "code",
      "source": [],
      "metadata": {
        "id": "XOjaV33fRnSd"
      },
      "execution_count": null,
      "outputs": []
    },
    {
      "cell_type": "code",
      "source": [],
      "metadata": {
        "id": "8_D3-2Us3VZS"
      },
      "execution_count": null,
      "outputs": []
    },
    {
      "cell_type": "code",
      "source": [
        "from torch.utils.data import TensorDataset, random_split\n",
        "\n",
        "# Combine the training inputs into a TensorDataset.\n",
        "dataset = TensorDataset(input_pairs, mask_pairs, sim_scores)\n",
        "\n",
        "# Create a 90-10 train-validation split.\n",
        "\n",
        "# Calculate the number of samples to include in each set.\n",
        "train_size = int(0.8 * len(dataset) + 1)\n",
        "val_size = len(dataset) - train_size\n",
        "\n",
        "# Divide the dataset by randomly selecting samples.\n",
        "train_dataset, val_dataset = random_split(dataset, [train_size, val_size])\n",
        "\n",
        "print('{:>5,} training samples'.format(train_size))\n",
        "print('{:>5,} validation samples'.format(val_size))"
      ],
      "metadata": {
        "colab": {
          "base_uri": "https://localhost:8080/"
        },
        "id": "4eqQ3qeG3a4r",
        "outputId": "b0facd83-44d9-4943-91df-a23450c5383c"
      },
      "execution_count": null,
      "outputs": [
        {
          "output_type": "stream",
          "name": "stdout",
          "text": [
            "23,913 training samples\n",
            "5,977 validation samples\n"
          ]
        }
      ]
    },
    {
      "cell_type": "code",
      "source": [
        "from torch.utils.data import DataLoader, RandomSampler, SequentialSampler\n",
        "\n",
        "# The DataLoader needs to know our batch size for training, so we specify it\n",
        "# here. For fine-tuning BERT on a specific task, the authors recommend a batch\n",
        "# size of 16 or 32.\n",
        "batch_size = 32\n",
        "\n",
        "# Create the DataLoaders for our training and validation sets.\n",
        "# We'll take training samples in random order.\n",
        "train_dataloader = DataLoader(\n",
        "            train_dataset,  # The training samples.\n",
        "            sampler = RandomSampler(train_dataset), # Select batches randomly\n",
        "            batch_size = batch_size # Trains with this batch size.\n",
        "        )\n",
        "\n",
        "# For validation the order doesn't matter, so we'll just read them sequentially.\n",
        "validation_dataloader = DataLoader(\n",
        "            val_dataset, # The validation samples.\n",
        "            sampler = SequentialSampler(val_dataset), # Pull out batches sequentially.\n",
        "            batch_size = batch_size # Evaluate with this batch size.\n",
        "        )"
      ],
      "metadata": {
        "id": "fRnmH4bR3hUQ"
      },
      "execution_count": null,
      "outputs": []
    },
    {
      "cell_type": "code",
      "source": [
        "class CustomBert(transformers.PreTrainedModel):\n",
        "    '''Custom model class\n",
        "       ------------------\n",
        "       Now the trick is not to inherit the class from `nn.Module` but `transformers.PretrainedModel`\n",
        "       Also you need to pass the model config during initialisation'''\n",
        "\n",
        "    def __init__(self, bert):\n",
        "        super(CustomBert, self).__init__(config=BertConfig.from_pretrained('bert-base-uncased'))\n",
        "        self.bert = bert\n",
        "\n",
        "        self.l1 = nn.Linear(768, 768)\n",
        "\n",
        "        self.mha = nn.MultiheadAttention(embed_dim=768, num_heads=8, dropout=.5)\n",
        "\n",
        "        self.l2 = nn.Linear(768, 1)\n",
        "\n",
        "        self.ln = nn.LayerNorm(768)\n",
        "\n",
        "        self.do = nn.Dropout(0.5)\n",
        "        self.relu = nn.ReLU()\n",
        "        self.sigmoid = nn.Sigmoid()\n",
        "\n",
        "    def forward(self, sent_id, mask):\n",
        "        '''For simplicity I have added only one linear layer, you can create any type of network you want'''\n",
        "\n",
        "        bert_out = self.bert(sent_id, attention_mask=mask)\n",
        "        o = bert_out.last_hidden_state[:,0,:]\n",
        "        #o = self.ln(o + self.mha(o,o,o)[0])\n",
        "        o = self.ln(o + self.do(self.relu(self.l1(o))))\n",
        "        o = self.l2(o)\n",
        "        return o"
      ],
      "metadata": {
        "id": "alGmNPBU3r1T"
      },
      "execution_count": null,
      "outputs": []
    },
    {
      "cell_type": "code",
      "source": [
        "model = CustomBert(bert)\n",
        "\n",
        "model.cuda()"
      ],
      "metadata": {
        "colab": {
          "base_uri": "https://localhost:8080/"
        },
        "id": "Tv7r4kH46NZa",
        "outputId": "3c4b0bb5-33b0-4832-cf2c-cbd2a5a4f283"
      },
      "execution_count": null,
      "outputs": [
        {
          "output_type": "execute_result",
          "data": {
            "text/plain": [
              "CustomBert(\n",
              "  (bert): BertModel(\n",
              "    (embeddings): BertEmbeddings(\n",
              "      (word_embeddings): Embedding(30522, 768, padding_idx=0)\n",
              "      (position_embeddings): Embedding(512, 768)\n",
              "      (token_type_embeddings): Embedding(2, 768)\n",
              "      (LayerNorm): LayerNorm((768,), eps=1e-12, elementwise_affine=True)\n",
              "      (dropout): Dropout(p=0.1, inplace=False)\n",
              "    )\n",
              "    (encoder): BertEncoder(\n",
              "      (layer): ModuleList(\n",
              "        (0-11): 12 x BertLayer(\n",
              "          (attention): BertAttention(\n",
              "            (self): BertSelfAttention(\n",
              "              (query): Linear(in_features=768, out_features=768, bias=True)\n",
              "              (key): Linear(in_features=768, out_features=768, bias=True)\n",
              "              (value): Linear(in_features=768, out_features=768, bias=True)\n",
              "              (dropout): Dropout(p=0.1, inplace=False)\n",
              "            )\n",
              "            (output): BertSelfOutput(\n",
              "              (dense): Linear(in_features=768, out_features=768, bias=True)\n",
              "              (LayerNorm): LayerNorm((768,), eps=1e-12, elementwise_affine=True)\n",
              "              (dropout): Dropout(p=0.1, inplace=False)\n",
              "            )\n",
              "          )\n",
              "          (intermediate): BertIntermediate(\n",
              "            (dense): Linear(in_features=768, out_features=3072, bias=True)\n",
              "            (intermediate_act_fn): GELUActivation()\n",
              "          )\n",
              "          (output): BertOutput(\n",
              "            (dense): Linear(in_features=3072, out_features=768, bias=True)\n",
              "            (LayerNorm): LayerNorm((768,), eps=1e-12, elementwise_affine=True)\n",
              "            (dropout): Dropout(p=0.1, inplace=False)\n",
              "          )\n",
              "        )\n",
              "      )\n",
              "    )\n",
              "    (pooler): BertPooler(\n",
              "      (dense): Linear(in_features=768, out_features=768, bias=True)\n",
              "      (activation): Tanh()\n",
              "    )\n",
              "  )\n",
              "  (l1): Linear(in_features=768, out_features=768, bias=True)\n",
              "  (mha): MultiheadAttention(\n",
              "    (out_proj): NonDynamicallyQuantizableLinear(in_features=768, out_features=768, bias=True)\n",
              "  )\n",
              "  (l2): Linear(in_features=768, out_features=1, bias=True)\n",
              "  (ln): LayerNorm((768,), eps=1e-05, elementwise_affine=True)\n",
              "  (do): Dropout(p=0.5, inplace=False)\n",
              "  (relu): ReLU()\n",
              "  (sigmoid): Sigmoid()\n",
              ")"
            ]
          },
          "metadata": {},
          "execution_count": 73
        }
      ]
    },
    {
      "cell_type": "code",
      "source": [],
      "metadata": {
        "colab": {
          "base_uri": "https://localhost:8080/"
        },
        "id": "I76nkRs2RgTF",
        "outputId": "766b678c-3a3c-4f8b-a4a2-f85c051cf2b8"
      },
      "execution_count": null,
      "outputs": [
        {
          "output_type": "execute_result",
          "data": {
            "text/plain": [
              "tensor([[1., 1., 1.,  ..., 0., 0., 0.],\n",
              "        [1., 1., 1.,  ..., 1., 1., 1.],\n",
              "        [1., 1., 1.,  ..., 0., 0., 0.],\n",
              "        ...,\n",
              "        [1., 1., 1.,  ..., 0., 0., 0.],\n",
              "        [1., 1., 1.,  ..., 0., 0., 0.],\n",
              "        [1., 1., 1.,  ..., 0., 0., 0.]], device='cuda:0')"
            ]
          },
          "metadata": {},
          "execution_count": 36
        }
      ]
    },
    {
      "cell_type": "code",
      "source": [
        "optimizer = AdamW(model.parameters(),\n",
        "                  lr = 2e-5, # args.learning_rate - default is 5e-5, our notebook had 2e-5\n",
        "                  eps = 1e-8 # args.adam_epsilon  - default is 1e-8.\n",
        "                )"
      ],
      "metadata": {
        "colab": {
          "base_uri": "https://localhost:8080/"
        },
        "id": "pHTmfhO656Mc",
        "outputId": "ae1e78ef-839f-44d6-db57-7000a8db2cbe"
      },
      "execution_count": null,
      "outputs": [
        {
          "output_type": "stream",
          "name": "stderr",
          "text": [
            "/usr/local/lib/python3.10/dist-packages/transformers/optimization.py:411: FutureWarning: This implementation of AdamW is deprecated and will be removed in a future version. Use the PyTorch implementation torch.optim.AdamW instead, or set `no_deprecation_warning=True` to disable this warning\n",
            "  warnings.warn(\n"
          ]
        }
      ]
    },
    {
      "cell_type": "code",
      "source": [
        "from transformers import get_linear_schedule_with_warmup\n",
        "\n",
        "# Number of training epochs. The BERT authors recommend between 2 and 4.\n",
        "# We chose to run for 4, but we'll see later that this may be over-fitting the\n",
        "# training data.\n",
        "epochs = 3\n",
        "\n",
        "# Total number of training steps is [number of batches] x [number of epochs].\n",
        "# (Note that this is not the same as the number of training samples).\n",
        "total_steps = len(train_dataloader) * epochs\n",
        "\n",
        "# Create the learning rate scheduler.\n",
        "scheduler = get_linear_schedule_with_warmup(optimizer,\n",
        "                                            num_warmup_steps = 0, # Default value in run_glue.py\n",
        "                                            num_training_steps = total_steps)"
      ],
      "metadata": {
        "id": "BlR_pVps6Qst"
      },
      "execution_count": null,
      "outputs": []
    },
    {
      "cell_type": "code",
      "source": [
        "training_stats = []\n",
        "\n",
        "for epoch_i in range(0, epochs):\n",
        "\n",
        "    # ========================================\n",
        "    #               Training\n",
        "    # ========================================\n",
        "\n",
        "    # Perform one full pass over the training set.\n",
        "\n",
        "    print(\"\")\n",
        "    print('======== Epoch {:} / {:} ========'.format(epoch_i + 1, epochs))\n",
        "    print('Training...')\n",
        "\n",
        "    # Measure how long the training epoch takes.\n",
        "\n",
        "    # Reset the total loss for this epoch.\n",
        "    total_train_loss = 0\n",
        "\n",
        "    # Put the model into training mode. Don't be mislead--the call to\n",
        "    # `train` just changes the *mode*, it doesn't *perform* the training.\n",
        "    # `dropout` and `batchnorm` layers behave differently during training\n",
        "    # vs. test (source: https://stackoverflow.com/questions/51433378/what-does-model-train-do-in-pytorch)\n",
        "    model.train()\n",
        "\n",
        "    # For each batch of training data...\n",
        "    for step, batch in enumerate(train_dataloader):\n",
        "\n",
        "        # Progress update every 40 batches.\n",
        "        if step % 40 == 0 and not step == 0:\n",
        "            # Calculate elapsed time in minutes.\n",
        "\n",
        "            # Report progress.\n",
        "            print('  Batch {:>5,}  of  {:>5,}. '.format(step, len(train_dataloader)))\n",
        "\n",
        "        # Unpack this training batch from our dataloader.\n",
        "        #\n",
        "        # As we unpack the batch, we'll also copy each tensor to the GPU using the\n",
        "        # `to` method.\n",
        "        #\n",
        "        # `batch` contains three pytorch tensors:\n",
        "        #   [0]: input ids\n",
        "        #   [1]: attention masks\n",
        "        #   [2]: labels\n",
        "        b_input_ids = batch[0].to(device)\n",
        "        b_input_mask = batch[1].to(device)\n",
        "        b_labels = batch[2].to(device)\n",
        "\n",
        "        # Always clear any previously calculated gradients before performing a\n",
        "        # backward pass. PyTorch doesn't do this automatically because\n",
        "        # accumulating the gradients is \"convenient while training RNNs\".\n",
        "        # (source: https://stackoverflow.com/questions/48001598/why-do-we-need-to-call-zero-grad-in-pytorch)\n",
        "        model.zero_grad()\n",
        "\n",
        "        # Perform a forward pass (evaluate the model on this training batch).\n",
        "        # The documentation for this `model` function is here:\n",
        "        # https://huggingface.co/transformers/v2.2.0/model_doc/bert.html#transformers.BertForSequenceClassification\n",
        "        # It returns different numbers of parameters depending on what arguments\n",
        "        # arge given and what flags are set. For our useage here, it returns\n",
        "        # the loss (because we provided labels) and the \"logits\"--the model\n",
        "        # outputs prior to activation.\n",
        "\n",
        "        loss = nn.MSELoss()(model(b_input_ids, b_input_mask), b_labels)\n",
        "\n",
        "        # Accumulate the training loss over all of the batches so that we can\n",
        "        # calculate the average loss at the end. `loss` is a Tensor containing a\n",
        "        # single value; the `.item()` function just returns the Python value\n",
        "        # from the tensor.\n",
        "        total_train_loss += torch.sum(loss).item()\n",
        "\n",
        "        # Perform a backward pass to calculate the gradients.\n",
        "        loss.backward()\n",
        "\n",
        "        # Clip the norm of the gradients to 1.0.\n",
        "        # This is to help prevent the \"exploding gradients\" problem.\n",
        "        torch.nn.utils.clip_grad_norm_(model.parameters(), 1.0)\n",
        "\n",
        "        # Update parameters and take a step using the computed gradient.\n",
        "        # The optimizer dictates the \"update rule\"--how the parameters are\n",
        "        # modified based on their gradients, the learning rate, etc.\n",
        "        optimizer.step()\n",
        "\n",
        "        # Update the learning rate.\n",
        "        scheduler.step()\n",
        "\n",
        "    # Calculate the average loss over all of the batches.\n",
        "    avg_train_loss = total_train_loss / len(train_dataloader)\n",
        "\n",
        "    # Measure how long this epoch took.\n",
        "\n",
        "    print(\"\")\n",
        "    print(\"  Average training loss: {0:.3f}\".format(avg_train_loss))\n",
        "\n",
        "    # ========================================\n",
        "    #               Validation\n",
        "    # ========================================\n",
        "    # After the completion of each training epoch, measure our performance on\n",
        "    # our validation set.\n",
        "\n",
        "    print(\"\")\n",
        "    print(\"Running Validation...\")\n",
        "\n",
        "\n",
        "    # Put the model in evaluation mode--the dropout layers behave differently\n",
        "    # during evaluation.\n",
        "    model.eval()\n",
        "\n",
        "    # Tracking variables\n",
        "    total_eval_accuracy = 0\n",
        "    total_eval_loss = 0\n",
        "    nb_eval_steps = 0\n",
        "\n",
        "    # Evaluate data for one epoch\n",
        "    for batch in validation_dataloader:\n",
        "\n",
        "        # Unpack this training batch from our dataloader.\n",
        "        #\n",
        "        # As we unpack the batch, we'll also copy each tensor to the GPU using\n",
        "        # the `to` method.\n",
        "        #\n",
        "        # `batch` contains three pytorch tensors:\n",
        "        #   [0]: input ids\n",
        "        #   [1]: attention masks\n",
        "        #   [2]: labels\n",
        "        b_input_ids = batch[0].to(device)\n",
        "        b_input_mask = batch[1].to(device)\n",
        "        b_labels = batch[2].to(device)\n",
        "\n",
        "        # Tell pytorch not to bother with constructing the compute graph during\n",
        "        # the forward pass, since this is only needed for backprop (training).\n",
        "        with torch.no_grad():\n",
        "\n",
        "            # Forward pass, calculate logit predictions.\n",
        "            # token_type_ids is the same as the \"segment ids\", which\n",
        "            # differentiates sentence 1 and 2 in 2-sentence tasks.\n",
        "            # The documentation for this `model` function is here:\n",
        "            # https://huggingface.co/transformers/v2.2.0/model_doc/bert.html#transformers.BertForSequenceClassification\n",
        "            # Get the \"logits\" output by the model. The \"logits\" are the output\n",
        "            # values prior to applying an activation function like the softmax.\n",
        "            loss = nn.MSELoss()(model(b_input_ids, b_input_mask), b_labels)\n",
        "\n",
        "\n",
        "        # Accumulate the validation loss.\n",
        "        total_eval_loss += loss.item()\n",
        "\n",
        "\n",
        "    # Report the final accuracy for this validation run.\n",
        "\n",
        "\n",
        "    # Calculate the average loss over all of the batches.\n",
        "    avg_val_loss = total_eval_loss / len(validation_dataloader)\n",
        "\n",
        "    # Measure how long the validation run took.\n",
        "\n",
        "    print(\"  Validation Loss: {0:.3f}\".format(avg_val_loss))\n",
        "\n",
        "    # Record all statistics from this epoch.\n",
        "    training_stats.append(\n",
        "        {\n",
        "            'epoch': epoch_i + 1,\n",
        "            'Training Loss': avg_train_loss,\n",
        "            'Valid. Loss': avg_val_loss,\n",
        "        }\n",
        "    )\n",
        "\n",
        "print(\"\")\n",
        "print(\"Training complete!\")"
      ],
      "metadata": {
        "colab": {
          "base_uri": "https://localhost:8080/"
        },
        "id": "ZtIonpMN6UkU",
        "outputId": "9cce4c04-cbb2-4c71-e29e-93dda2b8a284"
      },
      "execution_count": null,
      "outputs": [
        {
          "output_type": "stream",
          "name": "stdout",
          "text": [
            "\n",
            "======== Epoch 1 / 3 ========\n",
            "Training...\n"
          ]
        },
        {
          "output_type": "stream",
          "name": "stderr",
          "text": [
            "/usr/local/lib/python3.10/dist-packages/torch/nn/modules/loss.py:535: UserWarning: Using a target size (torch.Size([32])) that is different to the input size (torch.Size([32, 1])). This will likely lead to incorrect results due to broadcasting. Please ensure they have the same size.\n",
            "  return F.mse_loss(input, target, reduction=self.reduction)\n"
          ]
        },
        {
          "output_type": "stream",
          "name": "stdout",
          "text": [
            "  Batch    40  of    748. \n",
            "  Batch    80  of    748. \n",
            "  Batch   120  of    748. \n",
            "  Batch   160  of    748. \n",
            "  Batch   200  of    748. \n",
            "  Batch   240  of    748. \n",
            "  Batch   280  of    748. \n",
            "  Batch   320  of    748. \n",
            "  Batch   360  of    748. \n",
            "  Batch   400  of    748. \n",
            "  Batch   440  of    748. \n",
            "  Batch   480  of    748. \n",
            "  Batch   520  of    748. \n",
            "  Batch   560  of    748. \n",
            "  Batch   600  of    748. \n",
            "  Batch   640  of    748. \n",
            "  Batch   680  of    748. \n",
            "  Batch   720  of    748. \n"
          ]
        },
        {
          "output_type": "stream",
          "name": "stderr",
          "text": [
            "/usr/local/lib/python3.10/dist-packages/torch/nn/modules/loss.py:535: UserWarning: Using a target size (torch.Size([9])) that is different to the input size (torch.Size([9, 1])). This will likely lead to incorrect results due to broadcasting. Please ensure they have the same size.\n",
            "  return F.mse_loss(input, target, reduction=self.reduction)\n"
          ]
        },
        {
          "output_type": "stream",
          "name": "stdout",
          "text": [
            "\n",
            "  Average training loss: 0.029\n",
            "\n",
            "Running Validation...\n"
          ]
        },
        {
          "output_type": "stream",
          "name": "stderr",
          "text": [
            "/usr/local/lib/python3.10/dist-packages/torch/nn/modules/loss.py:535: UserWarning: Using a target size (torch.Size([25])) that is different to the input size (torch.Size([25, 1])). This will likely lead to incorrect results due to broadcasting. Please ensure they have the same size.\n",
            "  return F.mse_loss(input, target, reduction=self.reduction)\n"
          ]
        },
        {
          "output_type": "stream",
          "name": "stdout",
          "text": [
            "  Validation Loss: 0.020\n",
            "\n",
            "======== Epoch 2 / 3 ========\n",
            "Training...\n",
            "  Batch    40  of    748. \n",
            "  Batch    80  of    748. \n",
            "  Batch   120  of    748. \n",
            "  Batch   160  of    748. \n",
            "  Batch   200  of    748. \n",
            "  Batch   240  of    748. \n",
            "  Batch   280  of    748. \n",
            "  Batch   320  of    748. \n",
            "  Batch   360  of    748. \n",
            "  Batch   400  of    748. \n",
            "  Batch   440  of    748. \n",
            "  Batch   480  of    748. \n",
            "  Batch   520  of    748. \n",
            "  Batch   560  of    748. \n",
            "  Batch   600  of    748. \n",
            "  Batch   640  of    748. \n",
            "  Batch   680  of    748. \n",
            "  Batch   720  of    748. \n",
            "\n",
            "  Average training loss: 0.023\n",
            "\n",
            "Running Validation...\n",
            "  Validation Loss: 0.022\n",
            "\n",
            "======== Epoch 3 / 3 ========\n",
            "Training...\n",
            "  Batch    40  of    748. \n",
            "  Batch    80  of    748. \n",
            "  Batch   120  of    748. \n",
            "  Batch   160  of    748. \n",
            "  Batch   200  of    748. \n",
            "  Batch   240  of    748. \n",
            "  Batch   280  of    748. \n",
            "  Batch   320  of    748. \n",
            "  Batch   360  of    748. \n",
            "  Batch   400  of    748. \n",
            "  Batch   440  of    748. \n",
            "  Batch   480  of    748. \n",
            "  Batch   520  of    748. \n",
            "  Batch   560  of    748. \n",
            "  Batch   600  of    748. \n",
            "  Batch   640  of    748. \n",
            "  Batch   680  of    748. \n",
            "  Batch   720  of    748. \n",
            "\n",
            "  Average training loss: 0.022\n",
            "\n",
            "Running Validation...\n",
            "  Validation Loss: 0.021\n",
            "\n",
            "Training complete!\n"
          ]
        }
      ]
    },
    {
      "cell_type": "code",
      "source": [
        "scry_df = pd.DataFrame(text_data)\n",
        "\n",
        "def get_card_text(name, df):\n",
        "    card = df[df['name'].str.contains(name)]\n",
        "    for t in card['oracle_text'].values:\n",
        "      if t is not None:\n",
        "        return t\n",
        "    return None\n",
        "\n",
        "def get_card_cost(name, df):\n",
        "    card = df[df['name'].str.contains(name)]\n",
        "    for t in card['mana_cost'].values:\n",
        "      if t is not None:\n",
        "        return t\n",
        "    return None\n",
        "\n",
        "def compare_cards(model, card1, card2):\n",
        "    card1_text = get_card_text(card1, scry_df)\n",
        "    card2_text = get_card_text(card2, scry_df)\n",
        "\n",
        "    card1_cost = get_card_cost(card1, scry_df)\n",
        "    card2_cost = get_card_cost(card2, scry_df)\n",
        "\n",
        "    if card1_text is None or card2_text is None:\n",
        "      return\n",
        "\n",
        "    model.eval()\n",
        "\n",
        "    card1_dict = tokenizer.encode_plus(\n",
        "                        card1_text,                      # Sentence to encode.\n",
        "                        add_special_tokens = True, # Add '[CLS]' and '[SEP]'\n",
        "                        max_length = 131,           # Pad & truncate all sentences.\n",
        "                        pad_to_max_length = True,\n",
        "                        return_attention_mask = True,   # Construct attn. masks.\n",
        "                        return_tensors = 'pt',     # Return pytorch tensors.\n",
        "                   )\n",
        "\n",
        "\n",
        "\n",
        "    card1_m_dict = tokenizer.encode_plus(\n",
        "                        card1_cost,                      # Sentence to encode.\n",
        "                        add_special_tokens = True, # Add '[CLS]' and '[SEP]'\n",
        "                        max_length = 17,           # Pad & truncate all sentences.\n",
        "                        pad_to_max_length = True,\n",
        "                        return_attention_mask = True,   # Construct attn. masks.\n",
        "                        return_tensors = 'pt',     # Return pytorch tensors.\n",
        "                   )\n",
        "\n",
        "    card1_tokens = torch.cat((card1_m_dict['input_ids'], card1_dict['input_ids'][:, 1:]), dim=1).to(device)\n",
        "    card1_mask = torch.cat((card1_m_dict['attention_mask'], card1_dict['attention_mask'][:, 1:]), dim=1).to(device)\n",
        "\n",
        "\n",
        "    card2_dict = tokenizer.encode_plus(\n",
        "                        card2_text,                      # Sentence to encode.\n",
        "                        add_special_tokens = True, # Add '[CLS]' and '[SEP]'\n",
        "                        max_length = 131,           # Pad & truncate all sentences.\n",
        "                        pad_to_max_length = True,\n",
        "                        return_attention_mask = True,   # Construct attn. masks.\n",
        "                        return_tensors = 'pt',     # Return pytorch tensors.\n",
        "                   )\n",
        "\n",
        "\n",
        "    card2_m_dict = tokenizer.encode_plus(\n",
        "                        card2_cost,                      # Sentence to encode.\n",
        "                        add_special_tokens = True, # Add '[CLS]' and '[SEP]'\n",
        "                        max_length = 17,           # Pad & truncate all sentences.\n",
        "                        pad_to_max_length = True,\n",
        "                        return_attention_mask = True,   # Construct attn. masks.\n",
        "                        return_tensors = 'pt',     # Return pytorch tensors.\n",
        "                   )\n",
        "\n",
        "    card2_tokens = torch.cat((card2_m_dict['input_ids'], card2_dict['input_ids'][:, 1:]), dim=1).to(device)\n",
        "    card2_mask = torch.cat((card2_m_dict['attention_mask'], card2_dict['attention_mask'][:, 1:]), dim=1).to(device)\n",
        "\n",
        "\n",
        "    with torch.no_grad():\n",
        "      card1_tensor = model(card1_tokens, card1_mask)\n",
        "      card2_tensor = model(card2_tokens, card2_mask)\n",
        "\n",
        "    return nn.CosineSimilarity(dim=1)(card1_tensor, card2_tensor)"
      ],
      "metadata": {
        "id": "l2Lglvrg6NKk"
      },
      "execution_count": null,
      "outputs": []
    },
    {
      "cell_type": "code",
      "source": [
        "model.eval()\n",
        "\n",
        "for card in text_data:\n",
        "  if \"Hatching Plans\" in card['name']:\n",
        "    print(card['oracle_text'])"
      ],
      "metadata": {
        "colab": {
          "base_uri": "https://localhost:8080/"
        },
        "id": "efV7PDLO6BBL",
        "outputId": "aac87443-623d-4589-a7ef-783f25005e93"
      },
      "execution_count": null,
      "outputs": [
        {
          "output_type": "stream",
          "name": "stdout",
          "text": [
            "None\n",
            "When Hatching Plans is put into a graveyard from the battlefield, draw three cards.\n"
          ]
        }
      ]
    },
    {
      "cell_type": "code",
      "source": [
        "card = scry_df[scry_df['name'].str.contains(\"Hatching\")]\n",
        "print(len(card['oracle_text'].values))"
      ],
      "metadata": {
        "colab": {
          "base_uri": "https://localhost:8080/"
        },
        "id": "nJBr-LR75Kqr",
        "outputId": "df1ce0cb-54da-49c5-f5b0-793f2bb15b74"
      },
      "execution_count": null,
      "outputs": [
        {
          "output_type": "stream",
          "name": "stdout",
          "text": [
            "2\n"
          ]
        }
      ]
    },
    {
      "cell_type": "code",
      "source": [
        "eval_pairs = pd.read_pickle('WOE_eval_pairs.pkl')\n",
        "\n",
        "values = []\n",
        "\n",
        "for pair in eval_pairs['dissimilar']['names']:\n",
        "  print(pair)\n",
        "  result = compare_cards(model, pair[0], pair[1])\n",
        "  if result is not None:\n",
        "    score = result.item()\n",
        "    values.append(score)\n",
        "    print(score)\n",
        "\n",
        "print(sum(values) / len(values))"
      ],
      "metadata": {
        "id": "7S651IH2K5ya",
        "colab": {
          "base_uri": "https://localhost:8080/"
        },
        "outputId": "073af07c-230c-4491-b952-54b3366c6d7a"
      },
      "execution_count": null,
      "outputs": [
        {
          "output_type": "stream",
          "name": "stdout",
          "text": [
            "('Ash, Party Crasher', 'Greta, Sweettooth Scourge')\n",
            "0.46398112177848816\n",
            "('Syr Armont, the Redeemer', 'Obyra, Dreaming Duelist')\n"
          ]
        },
        {
          "output_type": "stream",
          "name": "stderr",
          "text": [
            "/usr/local/lib/python3.10/dist-packages/transformers/tokenization_utils_base.py:2614: FutureWarning: The `pad_to_max_length` argument is deprecated and will be removed in a future version, use `padding=True` or `padding='longest'` to pad to the longest sequence in the batch, or use `padding='max_length'` to pad to a max length. In this case, you can give a specific length with `max_length` (e.g. `max_length=45`) or leave max_length to None to pad to the maximal input size of the model (e.g. 512 for Bert).\n",
            "  warnings.warn(\n"
          ]
        },
        {
          "output_type": "stream",
          "name": "stdout",
          "text": [
            "-0.14031532406806946\n",
            "('Sharae of Numbing Depths', 'Ruby, Daring Tracker')\n",
            "-0.13473236560821533\n",
            "('Johann, Apprentice Sorcerer', 'Neva, Stalked by Nightmares')\n",
            "-0.4019918143749237\n",
            "('Totentanz, Swarm Piper', 'Troyan, Gutsy Explorer')\n",
            "0.12045540660619736\n",
            "-0.018520595133304597\n"
          ]
        }
      ]
    },
    {
      "cell_type": "code",
      "source": [],
      "metadata": {
        "colab": {
          "base_uri": "https://localhost:8080/"
        },
        "id": "QF4tnLiRbGws",
        "outputId": "c4277368-23a5-4d91-bc61-f53a57026cec"
      },
      "execution_count": null,
      "outputs": [
        {
          "output_type": "execute_result",
          "data": {
            "text/plain": [
              "{'names': [('Hopeful Vigil', 'Stockpiling Celebrant'),\n",
              "  ('The Princess Takes Flight', 'Stockpiling Celebrant'),\n",
              "  (\"Johann's Stopgap\", 'Hatching Plans'),\n",
              "  ('Ice Out', 'Hatching Plans'),\n",
              "  ('Barrow Naughty', 'Faerie Dreamthief'),\n",
              "  ('Faerie Fencing', 'Faerie Dreamthief'),\n",
              "  ('Bespoke Battlegarb', 'Edgewall Pack'),\n",
              "  ('Belligerent of the Ball', 'Edgewall Pack'),\n",
              "  ('Hamlet Glutton', 'Hollow Scavenger'),\n",
              "  ('Welcome to Sweettooth', 'Hollow Scavenger')],\n",
              " 'ids': [(122, 256),\n",
              "  (281, 256),\n",
              "  (138, 117),\n",
              "  (128, 117),\n",
              "  (16, 76),\n",
              "  (77, 76),\n",
              "  (24, 64),\n",
              "  (18, 64),\n",
              "  (114, 121),\n",
              "  (316, 121)]}"
            ]
          },
          "metadata": {},
          "execution_count": 102
        }
      ]
    },
    {
      "cell_type": "code",
      "source": [
        "[0.7402505278587341, 0.7287606596946716, 0.8913463950157166, 0.9347384572029114"
      ],
      "metadata": {
        "colab": {
          "base_uri": "https://localhost:8080/",
          "height": 168
        },
        "id": "JfpQsTV4xfEA",
        "outputId": "23335dc5-96fc-4f62-af4d-21209064a1fe"
      },
      "execution_count": null,
      "outputs": [
        {
          "output_type": "execute_result",
          "data": {
            "text/plain": [
              "                                 name      mana_cost colors  cmc  \\\n",
              "9394  Hollow Scavenger // Bakery Raid  {2}{G} // {G}    [G]  3.0   \n",
              "\n",
              "                                   type_line oracle_text power toughness  \\\n",
              "9394  Creature — Wolf // Sorcery — Adventure        None     3         2   \n",
              "\n",
              "     loyalty defense     layout  \\\n",
              "9394    None    None  adventure   \n",
              "\n",
              "                                             card_faces  \n",
              "9394  [{'name': 'Hollow Scavenger', 'mana_cost': '{2...  "
            ],
            "text/html": [
              "\n",
              "  <div id=\"df-c7072bdb-49eb-4b68-9ff9-6326357b73c5\" class=\"colab-df-container\">\n",
              "    <div>\n",
              "<style scoped>\n",
              "    .dataframe tbody tr th:only-of-type {\n",
              "        vertical-align: middle;\n",
              "    }\n",
              "\n",
              "    .dataframe tbody tr th {\n",
              "        vertical-align: top;\n",
              "    }\n",
              "\n",
              "    .dataframe thead th {\n",
              "        text-align: right;\n",
              "    }\n",
              "</style>\n",
              "<table border=\"1\" class=\"dataframe\">\n",
              "  <thead>\n",
              "    <tr style=\"text-align: right;\">\n",
              "      <th></th>\n",
              "      <th>name</th>\n",
              "      <th>mana_cost</th>\n",
              "      <th>colors</th>\n",
              "      <th>cmc</th>\n",
              "      <th>type_line</th>\n",
              "      <th>oracle_text</th>\n",
              "      <th>power</th>\n",
              "      <th>toughness</th>\n",
              "      <th>loyalty</th>\n",
              "      <th>defense</th>\n",
              "      <th>layout</th>\n",
              "      <th>card_faces</th>\n",
              "    </tr>\n",
              "  </thead>\n",
              "  <tbody>\n",
              "    <tr>\n",
              "      <th>9394</th>\n",
              "      <td>Hollow Scavenger // Bakery Raid</td>\n",
              "      <td>{2}{G} // {G}</td>\n",
              "      <td>[G]</td>\n",
              "      <td>3.0</td>\n",
              "      <td>Creature — Wolf // Sorcery — Adventure</td>\n",
              "      <td>None</td>\n",
              "      <td>3</td>\n",
              "      <td>2</td>\n",
              "      <td>None</td>\n",
              "      <td>None</td>\n",
              "      <td>adventure</td>\n",
              "      <td>[{'name': 'Hollow Scavenger', 'mana_cost': '{2...</td>\n",
              "    </tr>\n",
              "  </tbody>\n",
              "</table>\n",
              "</div>\n",
              "    <div class=\"colab-df-buttons\">\n",
              "\n",
              "  <div class=\"colab-df-container\">\n",
              "    <button class=\"colab-df-convert\" onclick=\"convertToInteractive('df-c7072bdb-49eb-4b68-9ff9-6326357b73c5')\"\n",
              "            title=\"Convert this dataframe to an interactive table.\"\n",
              "            style=\"display:none;\">\n",
              "\n",
              "  <svg xmlns=\"http://www.w3.org/2000/svg\" height=\"24px\" viewBox=\"0 -960 960 960\">\n",
              "    <path d=\"M120-120v-720h720v720H120Zm60-500h600v-160H180v160Zm220 220h160v-160H400v160Zm0 220h160v-160H400v160ZM180-400h160v-160H180v160Zm440 0h160v-160H620v160ZM180-180h160v-160H180v160Zm440 0h160v-160H620v160Z\"/>\n",
              "  </svg>\n",
              "    </button>\n",
              "\n",
              "  <style>\n",
              "    .colab-df-container {\n",
              "      display:flex;\n",
              "      gap: 12px;\n",
              "    }\n",
              "\n",
              "    .colab-df-convert {\n",
              "      background-color: #E8F0FE;\n",
              "      border: none;\n",
              "      border-radius: 50%;\n",
              "      cursor: pointer;\n",
              "      display: none;\n",
              "      fill: #1967D2;\n",
              "      height: 32px;\n",
              "      padding: 0 0 0 0;\n",
              "      width: 32px;\n",
              "    }\n",
              "\n",
              "    .colab-df-convert:hover {\n",
              "      background-color: #E2EBFA;\n",
              "      box-shadow: 0px 1px 2px rgba(60, 64, 67, 0.3), 0px 1px 3px 1px rgba(60, 64, 67, 0.15);\n",
              "      fill: #174EA6;\n",
              "    }\n",
              "\n",
              "    .colab-df-buttons div {\n",
              "      margin-bottom: 4px;\n",
              "    }\n",
              "\n",
              "    [theme=dark] .colab-df-convert {\n",
              "      background-color: #3B4455;\n",
              "      fill: #D2E3FC;\n",
              "    }\n",
              "\n",
              "    [theme=dark] .colab-df-convert:hover {\n",
              "      background-color: #434B5C;\n",
              "      box-shadow: 0px 1px 3px 1px rgba(0, 0, 0, 0.15);\n",
              "      filter: drop-shadow(0px 1px 2px rgba(0, 0, 0, 0.3));\n",
              "      fill: #FFFFFF;\n",
              "    }\n",
              "  </style>\n",
              "\n",
              "    <script>\n",
              "      const buttonEl =\n",
              "        document.querySelector('#df-c7072bdb-49eb-4b68-9ff9-6326357b73c5 button.colab-df-convert');\n",
              "      buttonEl.style.display =\n",
              "        google.colab.kernel.accessAllowed ? 'block' : 'none';\n",
              "\n",
              "      async function convertToInteractive(key) {\n",
              "        const element = document.querySelector('#df-c7072bdb-49eb-4b68-9ff9-6326357b73c5');\n",
              "        const dataTable =\n",
              "          await google.colab.kernel.invokeFunction('convertToInteractive',\n",
              "                                                    [key], {});\n",
              "        if (!dataTable) return;\n",
              "\n",
              "        const docLinkHtml = 'Like what you see? Visit the ' +\n",
              "          '<a target=\"_blank\" href=https://colab.research.google.com/notebooks/data_table.ipynb>data table notebook</a>'\n",
              "          + ' to learn more about interactive tables.';\n",
              "        element.innerHTML = '';\n",
              "        dataTable['output_type'] = 'display_data';\n",
              "        await google.colab.output.renderOutput(dataTable, element);\n",
              "        const docLink = document.createElement('div');\n",
              "        docLink.innerHTML = docLinkHtml;\n",
              "        element.appendChild(docLink);\n",
              "      }\n",
              "    </script>\n",
              "  </div>\n",
              "\n",
              "\n",
              "    </div>\n",
              "  </div>\n"
            ]
          },
          "metadata": {},
          "execution_count": 101
        }
      ]
    },
    {
      "cell_type": "code",
      "source": [
        "print(get_card_text(\"Totentanz, Swarm Piper\", scry_df))"
      ],
      "metadata": {
        "colab": {
          "base_uri": "https://localhost:8080/"
        },
        "id": "_DxlyOATvNGj",
        "outputId": "dd69952a-d0ed-4d07-aa8d-6f9e3220b2bd"
      },
      "execution_count": null,
      "outputs": [
        {
          "output_type": "stream",
          "name": "stdout",
          "text": [
            "None\n"
          ]
        }
      ]
    },
    {
      "cell_type": "code",
      "source": [
        "scry_df[scry_df['name'].str.contains(\"Troyan, Gutsy Explorer\")]"
      ],
      "metadata": {
        "id": "2ATd-BJA6lVD",
        "colab": {
          "base_uri": "https://localhost:8080/",
          "height": 151
        },
        "outputId": "5d48955a-6dbf-48b5-fb9c-546c18e4e114"
      },
      "execution_count": null,
      "outputs": [
        {
          "output_type": "execute_result",
          "data": {
            "text/plain": [
              "                       name  mana_cost  colors  cmc  \\\n",
              "293  Troyan, Gutsy Explorer  {1}{G}{U}  [G, U]  3.0   \n",
              "\n",
              "                               type_line  \\\n",
              "293  Legendary Creature — Vedalken Scout   \n",
              "\n",
              "                                           oracle_text power toughness  \\\n",
              "293  {T}: Add {G}{U}. Spend this mana only to cast ...     1         3   \n",
              "\n",
              "    loyalty defense  layout card_faces  \n",
              "293    None    None  normal       None  "
            ],
            "text/html": [
              "\n",
              "  <div id=\"df-c56c7464-9c3c-46af-ac9b-ec2792e434f3\" class=\"colab-df-container\">\n",
              "    <div>\n",
              "<style scoped>\n",
              "    .dataframe tbody tr th:only-of-type {\n",
              "        vertical-align: middle;\n",
              "    }\n",
              "\n",
              "    .dataframe tbody tr th {\n",
              "        vertical-align: top;\n",
              "    }\n",
              "\n",
              "    .dataframe thead th {\n",
              "        text-align: right;\n",
              "    }\n",
              "</style>\n",
              "<table border=\"1\" class=\"dataframe\">\n",
              "  <thead>\n",
              "    <tr style=\"text-align: right;\">\n",
              "      <th></th>\n",
              "      <th>name</th>\n",
              "      <th>mana_cost</th>\n",
              "      <th>colors</th>\n",
              "      <th>cmc</th>\n",
              "      <th>type_line</th>\n",
              "      <th>oracle_text</th>\n",
              "      <th>power</th>\n",
              "      <th>toughness</th>\n",
              "      <th>loyalty</th>\n",
              "      <th>defense</th>\n",
              "      <th>layout</th>\n",
              "      <th>card_faces</th>\n",
              "    </tr>\n",
              "  </thead>\n",
              "  <tbody>\n",
              "    <tr>\n",
              "      <th>293</th>\n",
              "      <td>Troyan, Gutsy Explorer</td>\n",
              "      <td>{1}{G}{U}</td>\n",
              "      <td>[G, U]</td>\n",
              "      <td>3.0</td>\n",
              "      <td>Legendary Creature — Vedalken Scout</td>\n",
              "      <td>{T}: Add {G}{U}. Spend this mana only to cast ...</td>\n",
              "      <td>1</td>\n",
              "      <td>3</td>\n",
              "      <td>None</td>\n",
              "      <td>None</td>\n",
              "      <td>normal</td>\n",
              "      <td>None</td>\n",
              "    </tr>\n",
              "  </tbody>\n",
              "</table>\n",
              "</div>\n",
              "    <div class=\"colab-df-buttons\">\n",
              "\n",
              "  <div class=\"colab-df-container\">\n",
              "    <button class=\"colab-df-convert\" onclick=\"convertToInteractive('df-c56c7464-9c3c-46af-ac9b-ec2792e434f3')\"\n",
              "            title=\"Convert this dataframe to an interactive table.\"\n",
              "            style=\"display:none;\">\n",
              "\n",
              "  <svg xmlns=\"http://www.w3.org/2000/svg\" height=\"24px\" viewBox=\"0 -960 960 960\">\n",
              "    <path d=\"M120-120v-720h720v720H120Zm60-500h600v-160H180v160Zm220 220h160v-160H400v160Zm0 220h160v-160H400v160ZM180-400h160v-160H180v160Zm440 0h160v-160H620v160ZM180-180h160v-160H180v160Zm440 0h160v-160H620v160Z\"/>\n",
              "  </svg>\n",
              "    </button>\n",
              "\n",
              "  <style>\n",
              "    .colab-df-container {\n",
              "      display:flex;\n",
              "      gap: 12px;\n",
              "    }\n",
              "\n",
              "    .colab-df-convert {\n",
              "      background-color: #E8F0FE;\n",
              "      border: none;\n",
              "      border-radius: 50%;\n",
              "      cursor: pointer;\n",
              "      display: none;\n",
              "      fill: #1967D2;\n",
              "      height: 32px;\n",
              "      padding: 0 0 0 0;\n",
              "      width: 32px;\n",
              "    }\n",
              "\n",
              "    .colab-df-convert:hover {\n",
              "      background-color: #E2EBFA;\n",
              "      box-shadow: 0px 1px 2px rgba(60, 64, 67, 0.3), 0px 1px 3px 1px rgba(60, 64, 67, 0.15);\n",
              "      fill: #174EA6;\n",
              "    }\n",
              "\n",
              "    .colab-df-buttons div {\n",
              "      margin-bottom: 4px;\n",
              "    }\n",
              "\n",
              "    [theme=dark] .colab-df-convert {\n",
              "      background-color: #3B4455;\n",
              "      fill: #D2E3FC;\n",
              "    }\n",
              "\n",
              "    [theme=dark] .colab-df-convert:hover {\n",
              "      background-color: #434B5C;\n",
              "      box-shadow: 0px 1px 3px 1px rgba(0, 0, 0, 0.15);\n",
              "      filter: drop-shadow(0px 1px 2px rgba(0, 0, 0, 0.3));\n",
              "      fill: #FFFFFF;\n",
              "    }\n",
              "  </style>\n",
              "\n",
              "    <script>\n",
              "      const buttonEl =\n",
              "        document.querySelector('#df-c56c7464-9c3c-46af-ac9b-ec2792e434f3 button.colab-df-convert');\n",
              "      buttonEl.style.display =\n",
              "        google.colab.kernel.accessAllowed ? 'block' : 'none';\n",
              "\n",
              "      async function convertToInteractive(key) {\n",
              "        const element = document.querySelector('#df-c56c7464-9c3c-46af-ac9b-ec2792e434f3');\n",
              "        const dataTable =\n",
              "          await google.colab.kernel.invokeFunction('convertToInteractive',\n",
              "                                                    [key], {});\n",
              "        if (!dataTable) return;\n",
              "\n",
              "        const docLinkHtml = 'Like what you see? Visit the ' +\n",
              "          '<a target=\"_blank\" href=https://colab.research.google.com/notebooks/data_table.ipynb>data table notebook</a>'\n",
              "          + ' to learn more about interactive tables.';\n",
              "        element.innerHTML = '';\n",
              "        dataTable['output_type'] = 'display_data';\n",
              "        await google.colab.output.renderOutput(dataTable, element);\n",
              "        const docLink = document.createElement('div');\n",
              "        docLink.innerHTML = docLinkHtml;\n",
              "        element.appendChild(docLink);\n",
              "      }\n",
              "    </script>\n",
              "  </div>\n",
              "\n",
              "\n",
              "    </div>\n",
              "  </div>\n"
            ]
          },
          "metadata": {},
          "execution_count": 72
        }
      ]
    },
    {
      "cell_type": "code",
      "source": [
        "colors = [s['colors'] for s in set_data if s is not None]"
      ],
      "metadata": {
        "id": "FvZtcwX19dgh"
      },
      "execution_count": null,
      "outputs": []
    },
    {
      "cell_type": "code",
      "source": [
        "help(model.forward())"
      ],
      "metadata": {
        "colab": {
          "base_uri": "https://localhost:8080/",
          "height": 174
        },
        "id": "hf9FSL8n-Xnl",
        "outputId": "f3236280-1647-4622-abab-5696327b9e39"
      },
      "execution_count": null,
      "outputs": [
        {
          "output_type": "error",
          "ename": "TypeError",
          "evalue": "ignored",
          "traceback": [
            "\u001b[0;31m---------------------------------------------------------------------------\u001b[0m",
            "\u001b[0;31mTypeError\u001b[0m                                 Traceback (most recent call last)",
            "\u001b[0;32m<ipython-input-71-b9d8465dfc08>\u001b[0m in \u001b[0;36m<cell line: 1>\u001b[0;34m()\u001b[0m\n\u001b[0;32m----> 1\u001b[0;31m \u001b[0mhelp\u001b[0m\u001b[0;34m(\u001b[0m\u001b[0mmodel\u001b[0m\u001b[0;34m.\u001b[0m\u001b[0mforward\u001b[0m\u001b[0;34m(\u001b[0m\u001b[0;34m)\u001b[0m\u001b[0;34m)\u001b[0m\u001b[0;34m\u001b[0m\u001b[0;34m\u001b[0m\u001b[0m\n\u001b[0m",
            "\u001b[0;31mTypeError\u001b[0m: CustomBert.forward() missing 2 required positional arguments: 'sent_id' and 'mask'"
          ]
        }
      ]
    },
    {
      "cell_type": "code",
      "source": [
        "import os\n",
        "os.path.getsize('/content/BERT_model.pt')"
      ],
      "metadata": {
        "id": "7-jTyGBD-whO",
        "colab": {
          "base_uri": "https://localhost:8080/"
        },
        "outputId": "40c703d0-7e24-4c1e-e68f-2aa54ad7f322"
      },
      "execution_count": null,
      "outputs": [
        {
          "output_type": "execute_result",
          "data": {
            "text/plain": [
              "450754511"
            ]
          },
          "metadata": {},
          "execution_count": 154
        }
      ]
    },
    {
      "cell_type": "code",
      "source": [
        "#evaluations: t-SNE, WOE pairs, lotr pairs, loss curve, top 5 most similar/most dissimilar"
      ],
      "metadata": {
        "id": "XxUCJcqcMSaJ"
      },
      "execution_count": null,
      "outputs": []
    },
    {
      "cell_type": "code",
      "source": [],
      "metadata": {
        "id": "0Iy5GHIRJORG"
      },
      "execution_count": null,
      "outputs": []
    },
    {
      "cell_type": "code",
      "source": [],
      "metadata": {
        "id": "2cZ4f_dkJQkK"
      },
      "execution_count": null,
      "outputs": []
    },
    {
      "cell_type": "code",
      "source": [],
      "metadata": {
        "id": "rHOw1NcuK6LX"
      },
      "execution_count": null,
      "outputs": []
    }
  ]
}